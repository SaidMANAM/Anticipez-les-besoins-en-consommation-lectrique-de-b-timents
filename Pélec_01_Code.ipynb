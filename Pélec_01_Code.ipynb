{
 "cells": [
  {
   "cell_type": "markdown",
   "id": "063d125e",
   "metadata": {},
   "source": [
    "Dans ce notebook, on va utiliser le dataset cleané et pré-traité et on va essayer et évaluer différents algorithmes de régression pour prédire la consommation électrique des batiments de seattle."
   ]
  },
  {
   "cell_type": "markdown",
   "id": "3a31e5d1",
   "metadata": {
    "toc": true
   },
   "source": [
    "<h1>Sommaire<span class=\"tocSkip\"></span></h1>\n",
    "<div class=\"toc\"><ul class=\"toc-item\"><li><span><a href=\"#Import-du-dataset\" data-toc-modified-id=\"Import-du-dataset-1\"><span class=\"toc-item-num\">1&nbsp;&nbsp;</span>Import du dataset</a></span></li><li><span><a href=\"#Séparation-en-données-d'apprentissage-et-données-de-test\" data-toc-modified-id=\"Séparation-en-données-d'apprentissage-et-données-de-test-2\"><span class=\"toc-item-num\">2&nbsp;&nbsp;</span>Séparation en données d'apprentissage et données de test</a></span></li><li><span><a href=\"#Modèles-predictifs\" data-toc-modified-id=\"Modèles-predictifs-3\"><span class=\"toc-item-num\">3&nbsp;&nbsp;</span>Modèles predictifs</a></span><ul class=\"toc-item\"><li><span><a href=\"#Modèle-baseline:-DummyRegressor\" data-toc-modified-id=\"Modèle-baseline:-DummyRegressor-3.1\"><span class=\"toc-item-num\">3.1&nbsp;&nbsp;</span>Modèle baseline: DummyRegressor</a></span></li><li><span><a href=\"#Modèle-Ridgecv()\" data-toc-modified-id=\"Modèle-Ridgecv()-3.2\"><span class=\"toc-item-num\">3.2&nbsp;&nbsp;</span>Modèle Ridgecv()</a></span></li><li><span><a href=\"#Modèle-Support-Vector-Machines\" data-toc-modified-id=\"Modèle-Support-Vector-Machines-3.3\"><span class=\"toc-item-num\">3.3&nbsp;&nbsp;</span>Modèle Support Vector Machines</a></span></li><li><span><a href=\"#Modèle-RandomForest\" data-toc-modified-id=\"Modèle-RandomForest-3.4\"><span class=\"toc-item-num\">3.4&nbsp;&nbsp;</span>Modèle RandomForest</a></span></li></ul></li><li><span><a href=\"#évaluation-de--l’intérêt-de-la-variable-&quot;ENERGYSTARScore&quot;-pour-la-prédiction-d’émissions\" data-toc-modified-id=\"évaluation-de--l’intérêt-de-la-variable-&quot;ENERGYSTARScore&quot;-pour-la-prédiction-d’émissions-4\"><span class=\"toc-item-num\">4&nbsp;&nbsp;</span>évaluation de  l’intérêt de la variable \"ENERGYSTARScore\" pour la prédiction d’émissions</a></span></li><li><span><a href=\"#Interprétation-du-model\" data-toc-modified-id=\"Interprétation-du-model-5\"><span class=\"toc-item-num\">5&nbsp;&nbsp;</span>Interprétation du model</a></span></li></ul></div>"
   ]
  },
  {
   "cell_type": "markdown",
   "id": "6d5c9dc0",
   "metadata": {},
   "source": [
    "## Import du dataset"
   ]
  },
  {
   "cell_type": "code",
   "execution_count": 1,
   "id": "71dae313",
   "metadata": {},
   "outputs": [],
   "source": [
    "#pip install --upgrade pip "
   ]
  },
  {
   "cell_type": "code",
   "execution_count": 2,
   "id": "b0e9e38d",
   "metadata": {},
   "outputs": [],
   "source": [
    "#!pip install lime eli5 scikit-image xgboost keras tensorflow --upgrade"
   ]
  },
  {
   "cell_type": "code",
   "execution_count": 3,
   "id": "314c4f15",
   "metadata": {},
   "outputs": [],
   "source": [
    "#pip install eli5 --upgrade"
   ]
  },
  {
   "cell_type": "code",
   "execution_count": 4,
   "id": "037e173e",
   "metadata": {},
   "outputs": [],
   "source": [
    "#pip install shap"
   ]
  },
  {
   "cell_type": "code",
   "execution_count": 5,
   "id": "ad389e6f",
   "metadata": {},
   "outputs": [],
   "source": [
    "import shap\n"
   ]
  },
  {
   "cell_type": "code",
   "execution_count": 6,
   "id": "c4587e6f",
   "metadata": {
    "scrolled": true
   },
   "outputs": [
    {
     "name": "stdout",
     "output_type": "stream",
     "text": [
      "Wall time: 40.9 ms\n"
     ]
    }
   ],
   "source": [
    "%%time \n",
    "import pandas as pd\n",
    "import numpy as np\n",
    "import sklearn\n",
    "from IPython.core.interactiveshell import InteractiveShell\n",
    "from sklearn.model_selection import cross_validate \n",
    "\n",
    "InteractiveShell.ast_node_interactivity = \"all\"\n",
    "       \n",
    "path = r\"\\Users\\Utilisateur\\Downloads\\building-energy-benchmarking-clean.csv\"#### le chemin vers le répertoire des données\n",
    "\n",
    "def import_Data(path,separator):\n",
    "     \n",
    "    return pd.read_csv(path, sep = separator)\n",
    "data= import_Data(path, separator = ',')"
   ]
  },
  {
   "cell_type": "markdown",
   "id": "e3fb7e7a",
   "metadata": {},
   "source": [
    "## Séparation en données d'apprentissage et données de test"
   ]
  },
  {
   "cell_type": "markdown",
   "id": "71dd9f85",
   "metadata": {},
   "source": [
    "Log Transformation est une technique qui rend nos données originales asymétriques plus normales. Il améliore la linéarité entre nos variables dépendantes et indépendantes. Il renforce la validité de nos analyses statistiques.\n",
    "\n",
    "On a remarqué que c'est le cas pour notre variable cible, donc on va lui appliquer cette transformation."
   ]
  },
  {
   "cell_type": "code",
   "execution_count": 7,
   "id": "f3ae15d1",
   "metadata": {},
   "outputs": [
    {
     "data": {
      "text/html": [
       "<div>\n",
       "<style scoped>\n",
       "    .dataframe tbody tr th:only-of-type {\n",
       "        vertical-align: middle;\n",
       "    }\n",
       "\n",
       "    .dataframe tbody tr th {\n",
       "        vertical-align: top;\n",
       "    }\n",
       "\n",
       "    .dataframe thead th {\n",
       "        text-align: right;\n",
       "    }\n",
       "</style>\n",
       "<table border=\"1\" class=\"dataframe\">\n",
       "  <thead>\n",
       "    <tr style=\"text-align: right;\">\n",
       "      <th></th>\n",
       "      <th>SiteEnergyUse(kBtu)</th>\n",
       "      <th>TotalGHGEmissions</th>\n",
       "    </tr>\n",
       "  </thead>\n",
       "  <tbody>\n",
       "    <tr>\n",
       "      <th>count</th>\n",
       "      <td>6.532000e+03</td>\n",
       "      <td>6532.000000</td>\n",
       "    </tr>\n",
       "    <tr>\n",
       "      <th>mean</th>\n",
       "      <td>5.258070e+06</td>\n",
       "      <td>116.127936</td>\n",
       "    </tr>\n",
       "    <tr>\n",
       "      <th>std</th>\n",
       "      <td>1.835044e+07</td>\n",
       "      <td>484.567028</td>\n",
       "    </tr>\n",
       "    <tr>\n",
       "      <th>min</th>\n",
       "      <td>1.144100e+04</td>\n",
       "      <td>0.080000</td>\n",
       "    </tr>\n",
       "    <tr>\n",
       "      <th>25%</th>\n",
       "      <td>9.283485e+05</td>\n",
       "      <td>9.487500</td>\n",
       "    </tr>\n",
       "    <tr>\n",
       "      <th>50%</th>\n",
       "      <td>1.793138e+06</td>\n",
       "      <td>33.225000</td>\n",
       "    </tr>\n",
       "    <tr>\n",
       "      <th>75%</th>\n",
       "      <td>4.188888e+06</td>\n",
       "      <td>92.002500</td>\n",
       "    </tr>\n",
       "    <tr>\n",
       "      <th>max</th>\n",
       "      <td>8.739237e+08</td>\n",
       "      <td>16870.980000</td>\n",
       "    </tr>\n",
       "  </tbody>\n",
       "</table>\n",
       "</div>"
      ],
      "text/plain": [
       "       SiteEnergyUse(kBtu)  TotalGHGEmissions\n",
       "count         6.532000e+03        6532.000000\n",
       "mean          5.258070e+06         116.127936\n",
       "std           1.835044e+07         484.567028\n",
       "min           1.144100e+04           0.080000\n",
       "25%           9.283485e+05           9.487500\n",
       "50%           1.793138e+06          33.225000\n",
       "75%           4.188888e+06          92.002500\n",
       "max           8.739237e+08       16870.980000"
      ]
     },
     "execution_count": 7,
     "metadata": {},
     "output_type": "execute_result"
    },
    {
     "name": "stdout",
     "output_type": "stream",
     "text": [
      "<class 'pandas.core.frame.DataFrame'>\n",
      "RangeIndex: 6532 entries, 0 to 6531\n",
      "Data columns (total 2 columns):\n",
      " #   Column               Non-Null Count  Dtype  \n",
      "---  ------               --------------  -----  \n",
      " 0   SiteEnergyUse(kBtu)  6532 non-null   float64\n",
      " 1   TotalGHGEmissions    6532 non-null   float64\n",
      "dtypes: float64(2)\n",
      "memory usage: 102.2 KB\n"
     ]
    }
   ],
   "source": [
    "data[[\"SiteEnergyUse(kBtu)\",\"TotalGHGEmissions\"]].describe()\n",
    "data[[\"SiteEnergyUse(kBtu)\",\"TotalGHGEmissions\"]].info()"
   ]
  },
  {
   "cell_type": "code",
   "execution_count": 8,
   "id": "ab00da14",
   "metadata": {},
   "outputs": [
    {
     "name": "stdout",
     "output_type": "stream",
     "text": [
      "<class 'pandas.core.frame.DataFrame'>\n",
      "RangeIndex: 6532 entries, 0 to 6531\n",
      "Data columns (total 17 columns):\n",
      " #   Column                           Non-Null Count  Dtype  \n",
      "---  ------                           --------------  -----  \n",
      " 0   BuildingType                     6532 non-null   object \n",
      " 1   PrimaryPropertyType              6532 non-null   object \n",
      " 2   ZipCode                          6519 non-null   float64\n",
      " 3   Neighborhood                     6532 non-null   object \n",
      " 4   Latitude                         6532 non-null   float64\n",
      " 5   Longitude                        6532 non-null   float64\n",
      " 6   NumberofBuildings                6532 non-null   float64\n",
      " 7   NumberofFloors                   6524 non-null   float64\n",
      " 8   PropertyGFAParking               6532 non-null   int64  \n",
      " 9   PropertyGFABuilding(s)           6532 non-null   int64  \n",
      " 10  LargestPropertyUseTypeGFA        6388 non-null   float64\n",
      " 11  SecondLargestPropertyUseTypeGFA  3202 non-null   float64\n",
      " 12  ThirdLargestPropertyUseTypeGFA   1140 non-null   float64\n",
      " 13  ENERGYSTARScore                  4956 non-null   float64\n",
      " 14  SiteEnergyUse(kBtu)              6532 non-null   float64\n",
      " 15  TotalGHGEmissions                6532 non-null   float64\n",
      " 16  Age                              6532 non-null   int64  \n",
      "dtypes: float64(11), int64(3), object(3)\n",
      "memory usage: 867.7+ KB\n"
     ]
    }
   ],
   "source": [
    "data.info()"
   ]
  },
  {
   "cell_type": "code",
   "execution_count": 9,
   "id": "a530de2b",
   "metadata": {},
   "outputs": [],
   "source": [
    "random_state = 0"
   ]
  },
  {
   "cell_type": "code",
   "execution_count": 10,
   "id": "4f256ebe",
   "metadata": {},
   "outputs": [],
   "source": [
    "from sklearn.model_selection import train_test_split\n",
    "y = np.log(data[[\"SiteEnergyUse(kBtu)\",\"TotalGHGEmissions\"]])\n",
    "X = data.drop([\"SiteEnergyUse(kBtu)\",\"TotalGHGEmissions\"],axis=1)\n",
    "X_train, X_test, y_train, y_test = train_test_split(X, y, test_size=0.2)"
   ]
  },
  {
   "cell_type": "code",
   "execution_count": 11,
   "id": "de23f8a1",
   "metadata": {},
   "outputs": [
    {
     "data": {
      "text/plain": [
       "['BuildingType',\n",
       " 'PrimaryPropertyType',\n",
       " 'ZipCode',\n",
       " 'Neighborhood',\n",
       " 'Latitude',\n",
       " 'Longitude',\n",
       " 'NumberofBuildings',\n",
       " 'NumberofFloors',\n",
       " 'PropertyGFAParking',\n",
       " 'PropertyGFABuilding(s)',\n",
       " 'LargestPropertyUseTypeGFA',\n",
       " 'SecondLargestPropertyUseTypeGFA',\n",
       " 'ThirdLargestPropertyUseTypeGFA',\n",
       " 'ENERGYSTARScore',\n",
       " 'SiteEnergyUse(kBtu)',\n",
       " 'TotalGHGEmissions',\n",
       " 'Age']"
      ]
     },
     "execution_count": 11,
     "metadata": {},
     "output_type": "execute_result"
    }
   ],
   "source": [
    "list(data.columns)"
   ]
  },
  {
   "cell_type": "code",
   "execution_count": 12,
   "id": "d02b1792",
   "metadata": {},
   "outputs": [
    {
     "data": {
      "text/html": [
       "<div>\n",
       "<style scoped>\n",
       "    .dataframe tbody tr th:only-of-type {\n",
       "        vertical-align: middle;\n",
       "    }\n",
       "\n",
       "    .dataframe tbody tr th {\n",
       "        vertical-align: top;\n",
       "    }\n",
       "\n",
       "    .dataframe thead th {\n",
       "        text-align: right;\n",
       "    }\n",
       "</style>\n",
       "<table border=\"1\" class=\"dataframe\">\n",
       "  <thead>\n",
       "    <tr style=\"text-align: right;\">\n",
       "      <th></th>\n",
       "      <th>SiteEnergyUse(kBtu)</th>\n",
       "      <th>TotalGHGEmissions</th>\n",
       "    </tr>\n",
       "  </thead>\n",
       "  <tbody>\n",
       "    <tr>\n",
       "      <th>count</th>\n",
       "      <td>6532.000000</td>\n",
       "      <td>6532.000000</td>\n",
       "    </tr>\n",
       "    <tr>\n",
       "      <th>mean</th>\n",
       "      <td>14.575760</td>\n",
       "      <td>3.486109</td>\n",
       "    </tr>\n",
       "    <tr>\n",
       "      <th>std</th>\n",
       "      <td>1.152416</td>\n",
       "      <td>1.499750</td>\n",
       "    </tr>\n",
       "    <tr>\n",
       "      <th>min</th>\n",
       "      <td>9.344959</td>\n",
       "      <td>-2.525729</td>\n",
       "    </tr>\n",
       "    <tr>\n",
       "      <th>25%</th>\n",
       "      <td>13.741162</td>\n",
       "      <td>2.249975</td>\n",
       "    </tr>\n",
       "    <tr>\n",
       "      <th>50%</th>\n",
       "      <td>14.399478</td>\n",
       "      <td>3.503303</td>\n",
       "    </tr>\n",
       "    <tr>\n",
       "      <th>75%</th>\n",
       "      <td>15.247946</td>\n",
       "      <td>4.521816</td>\n",
       "    </tr>\n",
       "    <tr>\n",
       "      <th>max</th>\n",
       "      <td>20.588504</td>\n",
       "      <td>9.733350</td>\n",
       "    </tr>\n",
       "  </tbody>\n",
       "</table>\n",
       "</div>"
      ],
      "text/plain": [
       "       SiteEnergyUse(kBtu)  TotalGHGEmissions\n",
       "count          6532.000000        6532.000000\n",
       "mean             14.575760           3.486109\n",
       "std               1.152416           1.499750\n",
       "min               9.344959          -2.525729\n",
       "25%              13.741162           2.249975\n",
       "50%              14.399478           3.503303\n",
       "75%              15.247946           4.521816\n",
       "max              20.588504           9.733350"
      ]
     },
     "execution_count": 12,
     "metadata": {},
     "output_type": "execute_result"
    }
   ],
   "source": [
    "y.describe()"
   ]
  },
  {
   "cell_type": "code",
   "execution_count": 13,
   "id": "2072143c",
   "metadata": {},
   "outputs": [
    {
     "data": {
      "text/html": [
       "<div>\n",
       "<style scoped>\n",
       "    .dataframe tbody tr th:only-of-type {\n",
       "        vertical-align: middle;\n",
       "    }\n",
       "\n",
       "    .dataframe tbody tr th {\n",
       "        vertical-align: top;\n",
       "    }\n",
       "\n",
       "    .dataframe thead th {\n",
       "        text-align: right;\n",
       "    }\n",
       "</style>\n",
       "<table border=\"1\" class=\"dataframe\">\n",
       "  <thead>\n",
       "    <tr style=\"text-align: right;\">\n",
       "      <th></th>\n",
       "      <th>ZipCode</th>\n",
       "      <th>Latitude</th>\n",
       "      <th>Longitude</th>\n",
       "      <th>NumberofBuildings</th>\n",
       "      <th>NumberofFloors</th>\n",
       "      <th>PropertyGFAParking</th>\n",
       "      <th>PropertyGFABuilding(s)</th>\n",
       "      <th>LargestPropertyUseTypeGFA</th>\n",
       "      <th>SecondLargestPropertyUseTypeGFA</th>\n",
       "      <th>ThirdLargestPropertyUseTypeGFA</th>\n",
       "      <th>ENERGYSTARScore</th>\n",
       "      <th>Age</th>\n",
       "    </tr>\n",
       "  </thead>\n",
       "  <tbody>\n",
       "    <tr>\n",
       "      <th>count</th>\n",
       "      <td>5215.000000</td>\n",
       "      <td>5225.000000</td>\n",
       "      <td>5225.000000</td>\n",
       "      <td>5225.000000</td>\n",
       "      <td>5218.000000</td>\n",
       "      <td>5225.000000</td>\n",
       "      <td>5.225000e+03</td>\n",
       "      <td>5.115000e+03</td>\n",
       "      <td>2561.000000</td>\n",
       "      <td>917.000000</td>\n",
       "      <td>3929.000000</td>\n",
       "      <td>5225.000000</td>\n",
       "    </tr>\n",
       "    <tr>\n",
       "      <th>mean</th>\n",
       "      <td>57442.078811</td>\n",
       "      <td>47.624231</td>\n",
       "      <td>-122.335171</td>\n",
       "      <td>1.076172</td>\n",
       "      <td>4.720008</td>\n",
       "      <td>9747.841148</td>\n",
       "      <td>8.350534e+04</td>\n",
       "      <td>7.694782e+04</td>\n",
       "      <td>28111.875946</td>\n",
       "      <td>11286.227261</td>\n",
       "      <td>67.642912</td>\n",
       "      <td>47.099522</td>\n",
       "    </tr>\n",
       "    <tr>\n",
       "      <th>std</th>\n",
       "      <td>39656.599117</td>\n",
       "      <td>0.047626</td>\n",
       "      <td>0.026790</td>\n",
       "      <td>1.771374</td>\n",
       "      <td>5.426737</td>\n",
       "      <td>34149.188561</td>\n",
       "      <td>1.840748e+05</td>\n",
       "      <td>1.778129e+05</td>\n",
       "      <td>52189.843033</td>\n",
       "      <td>24305.768088</td>\n",
       "      <td>26.967743</td>\n",
       "      <td>33.068101</td>\n",
       "    </tr>\n",
       "    <tr>\n",
       "      <th>min</th>\n",
       "      <td>17916.000000</td>\n",
       "      <td>47.499331</td>\n",
       "      <td>-122.411820</td>\n",
       "      <td>0.000000</td>\n",
       "      <td>0.000000</td>\n",
       "      <td>-2.000000</td>\n",
       "      <td>-5.055000e+04</td>\n",
       "      <td>5.872000e+03</td>\n",
       "      <td>0.000000</td>\n",
       "      <td>0.000000</td>\n",
       "      <td>1.000000</td>\n",
       "      <td>0.000000</td>\n",
       "    </tr>\n",
       "    <tr>\n",
       "      <th>25%</th>\n",
       "      <td>18390.000000</td>\n",
       "      <td>47.600010</td>\n",
       "      <td>-122.350660</td>\n",
       "      <td>1.000000</td>\n",
       "      <td>2.000000</td>\n",
       "      <td>0.000000</td>\n",
       "      <td>2.703500e+04</td>\n",
       "      <td>2.493900e+04</td>\n",
       "      <td>4993.000000</td>\n",
       "      <td>2377.000000</td>\n",
       "      <td>52.000000</td>\n",
       "      <td>19.000000</td>\n",
       "    </tr>\n",
       "    <tr>\n",
       "      <th>50%</th>\n",
       "      <td>19584.000000</td>\n",
       "      <td>47.618331</td>\n",
       "      <td>-122.332720</td>\n",
       "      <td>1.000000</td>\n",
       "      <td>4.000000</td>\n",
       "      <td>0.000000</td>\n",
       "      <td>4.160000e+04</td>\n",
       "      <td>3.888000e+04</td>\n",
       "      <td>10700.000000</td>\n",
       "      <td>5100.000000</td>\n",
       "      <td>75.000000</td>\n",
       "      <td>41.000000</td>\n",
       "    </tr>\n",
       "    <tr>\n",
       "      <th>75%</th>\n",
       "      <td>98112.000000</td>\n",
       "      <td>47.657084</td>\n",
       "      <td>-122.320150</td>\n",
       "      <td>1.000000</td>\n",
       "      <td>5.000000</td>\n",
       "      <td>0.000000</td>\n",
       "      <td>8.098000e+04</td>\n",
       "      <td>7.298500e+04</td>\n",
       "      <td>26640.000000</td>\n",
       "      <td>10568.000000</td>\n",
       "      <td>90.000000</td>\n",
       "      <td>68.000000</td>\n",
       "    </tr>\n",
       "    <tr>\n",
       "      <th>max</th>\n",
       "      <td>98272.000000</td>\n",
       "      <td>47.733870</td>\n",
       "      <td>-122.220470</td>\n",
       "      <td>111.000000</td>\n",
       "      <td>99.000000</td>\n",
       "      <td>512608.000000</td>\n",
       "      <td>9.320156e+06</td>\n",
       "      <td>9.320156e+06</td>\n",
       "      <td>686750.000000</td>\n",
       "      <td>303910.000000</td>\n",
       "      <td>100.000000</td>\n",
       "      <td>116.000000</td>\n",
       "    </tr>\n",
       "  </tbody>\n",
       "</table>\n",
       "</div>"
      ],
      "text/plain": [
       "            ZipCode     Latitude    Longitude  NumberofBuildings  \\\n",
       "count   5215.000000  5225.000000  5225.000000        5225.000000   \n",
       "mean   57442.078811    47.624231  -122.335171           1.076172   \n",
       "std    39656.599117     0.047626     0.026790           1.771374   \n",
       "min    17916.000000    47.499331  -122.411820           0.000000   \n",
       "25%    18390.000000    47.600010  -122.350660           1.000000   \n",
       "50%    19584.000000    47.618331  -122.332720           1.000000   \n",
       "75%    98112.000000    47.657084  -122.320150           1.000000   \n",
       "max    98272.000000    47.733870  -122.220470         111.000000   \n",
       "\n",
       "       NumberofFloors  PropertyGFAParking  PropertyGFABuilding(s)  \\\n",
       "count     5218.000000         5225.000000            5.225000e+03   \n",
       "mean         4.720008         9747.841148            8.350534e+04   \n",
       "std          5.426737        34149.188561            1.840748e+05   \n",
       "min          0.000000           -2.000000           -5.055000e+04   \n",
       "25%          2.000000            0.000000            2.703500e+04   \n",
       "50%          4.000000            0.000000            4.160000e+04   \n",
       "75%          5.000000            0.000000            8.098000e+04   \n",
       "max         99.000000       512608.000000            9.320156e+06   \n",
       "\n",
       "       LargestPropertyUseTypeGFA  SecondLargestPropertyUseTypeGFA  \\\n",
       "count               5.115000e+03                      2561.000000   \n",
       "mean                7.694782e+04                     28111.875946   \n",
       "std                 1.778129e+05                     52189.843033   \n",
       "min                 5.872000e+03                         0.000000   \n",
       "25%                 2.493900e+04                      4993.000000   \n",
       "50%                 3.888000e+04                     10700.000000   \n",
       "75%                 7.298500e+04                     26640.000000   \n",
       "max                 9.320156e+06                    686750.000000   \n",
       "\n",
       "       ThirdLargestPropertyUseTypeGFA  ENERGYSTARScore          Age  \n",
       "count                      917.000000      3929.000000  5225.000000  \n",
       "mean                     11286.227261        67.642912    47.099522  \n",
       "std                      24305.768088        26.967743    33.068101  \n",
       "min                          0.000000         1.000000     0.000000  \n",
       "25%                       2377.000000        52.000000    19.000000  \n",
       "50%                       5100.000000        75.000000    41.000000  \n",
       "75%                      10568.000000        90.000000    68.000000  \n",
       "max                     303910.000000       100.000000   116.000000  "
      ]
     },
     "execution_count": 13,
     "metadata": {},
     "output_type": "execute_result"
    },
    {
     "data": {
      "text/plain": [
       "(5225, 15)"
      ]
     },
     "execution_count": 13,
     "metadata": {},
     "output_type": "execute_result"
    }
   ],
   "source": [
    "X_train.describe()\n",
    "X_train.shape"
   ]
  },
  {
   "cell_type": "code",
   "execution_count": 14,
   "id": "e5f82e96",
   "metadata": {},
   "outputs": [
    {
     "name": "stderr",
     "output_type": "stream",
     "text": [
      "\n",
      "A value is trying to be set on a copy of a slice from a DataFrame\n",
      "\n",
      "See the caveats in the documentation: https://pandas.pydata.org/pandas-docs/stable/user_guide/indexing.html#returning-a-view-versus-a-copy\n"
     ]
    }
   ],
   "source": [
    "X_test.replace([np.inf, -np.inf], np.nan, inplace=True)"
   ]
  },
  {
   "cell_type": "markdown",
   "id": "a0d78b37",
   "metadata": {},
   "source": [
    "## Modèles predictifs"
   ]
  },
  {
   "cell_type": "markdown",
   "id": "29f3edba",
   "metadata": {},
   "source": [
    "On va commencer par la séparation de nos colonnes par leurs types, la création de notre pipeline qui va contenir un imputer de données manquantes et un objet de normalisation de données et le codage des données  \n"
   ]
  },
  {
   "cell_type": "code",
   "execution_count": 15,
   "id": "ee5455c7",
   "metadata": {},
   "outputs": [
    {
     "data": {
      "text/plain": [
       "['BuildingType',\n",
       " 'PrimaryPropertyType',\n",
       " 'ZipCode',\n",
       " 'Neighborhood',\n",
       " 'Latitude',\n",
       " 'Longitude',\n",
       " 'NumberofBuildings',\n",
       " 'NumberofFloors',\n",
       " 'PropertyGFAParking',\n",
       " 'PropertyGFABuilding(s)',\n",
       " 'LargestPropertyUseTypeGFA',\n",
       " 'SecondLargestPropertyUseTypeGFA',\n",
       " 'ThirdLargestPropertyUseTypeGFA',\n",
       " 'ENERGYSTARScore',\n",
       " 'Age']"
      ]
     },
     "execution_count": 15,
     "metadata": {},
     "output_type": "execute_result"
    }
   ],
   "source": [
    "list(X_train.columns)\n"
   ]
  },
  {
   "cell_type": "code",
   "execution_count": 16,
   "id": "0c943e4e",
   "metadata": {},
   "outputs": [
    {
     "data": {
      "text/plain": [
       "Index(['SiteEnergyUse(kBtu)', 'TotalGHGEmissions'], dtype='object')"
      ]
     },
     "execution_count": 16,
     "metadata": {},
     "output_type": "execute_result"
    }
   ],
   "source": [
    "y_train.columns"
   ]
  },
  {
   "cell_type": "code",
   "execution_count": 17,
   "id": "7db1fe80",
   "metadata": {},
   "outputs": [],
   "source": [
    "from sklearn.pipeline import Pipeline\n",
    "from sklearn.impute import SimpleImputer\n",
    "from sklearn.preprocessing import StandardScaler\n",
    "from sklearn.preprocessing import OneHotEncoder\n",
    "from sklearn.compose import ColumnTransformer\n",
    "from sklearn import set_config\n",
    "from sklearn.metrics import mean_squared_error\n",
    "from sklearn.model_selection import GridSearchCV\n",
    "import shap\n",
    "import time\n",
    "\n",
    "numeric_features = [ 'PropertyGFAParking','PropertyGFABuilding(s)','ZipCode', 'Age', 'ThirdLargestPropertyUseTypeGFA', 'SecondLargestPropertyUseTypeGFA', 'LargestPropertyUseTypeGFA' , 'NumberofFloors', 'NumberofBuildings', 'Latitude', 'Longitude','ENERGYSTARScore']\n",
    "numeric_transformer = Pipeline(steps=[\n",
    "    ('imputer', SimpleImputer(strategy='mean')),\n",
    "    ('scaler', StandardScaler())])\n",
    "\n",
    "categorical_features = [\"BuildingType\",\"PrimaryPropertyType\",'Neighborhood']\n",
    "categorical_transformer = OneHotEncoder(handle_unknown='ignore')\n",
    "\n",
    "\n",
    "preprocessor = ColumnTransformer(\n",
    "    transformers = [\n",
    "        ('num', numeric_transformer, numeric_features),\n",
    "        ('cat', categorical_transformer, categorical_features)])\n",
    "\n",
    "set_config(display = 'diagram')\n",
    "\n",
    "\n",
    "\n",
    "\n"
   ]
  },
  {
   "cell_type": "markdown",
   "id": "01195dc6",
   "metadata": {},
   "source": [
    "### Modèle baseline: DummyRegressor"
   ]
  },
  {
   "cell_type": "markdown",
   "id": "ea40028e",
   "metadata": {},
   "source": [
    "On a besoin d'un modèle qui sert de baseline de comparaison, pour cela, on va utiliser un algorithme qui prédit la moyenne sur toutes les valeurs.\n",
    "On va créer un modèle pour chaque variable cible."
   ]
  },
  {
   "cell_type": "code",
   "execution_count": 18,
   "id": "b1366b00",
   "metadata": {},
   "outputs": [],
   "source": [
    "from sklearn.dummy import DummyRegressor\n",
    "from sklearn import metrics\n",
    "from sklearn.metrics import r2_score, mean_squared_error, make_scorer\n",
    "dummy_regr = DummyRegressor(strategy=\"mean\")\n",
    "model = Pipeline([('preprocessor',preprocessor),('Regressor', dummy_regr)]) \n",
    "set_config(display = 'diagram')"
   ]
  },
  {
   "cell_type": "markdown",
   "id": "3da2d0d3",
   "metadata": {},
   "source": [
    "On va créer les métriques, qu'on va utiliser pour comparer les performances des modèles."
   ]
  },
  {
   "cell_type": "code",
   "execution_count": 19,
   "id": "ad9b8358",
   "metadata": {},
   "outputs": [],
   "source": [
    "\n",
    "\n",
    "def RMSE(y_true,y_pred):\n",
    "    rmse = mean_squared_error(np.exp(y_true), np.exp(y_pred), squared=False)\n",
    "    return rmse\n",
    "\n",
    "def R2(y_true,y_pred):    \n",
    "    return r2_score(y_true, y_pred)\n",
    "\n",
    "def two_score_r2(y_true,y_pred):    \n",
    "    \n",
    "    score = R2(y_true,y_pred)\n",
    "    return score\n",
    "\n",
    "def two_score_rmse(y_true,y_pred):    \n",
    "    rmse = RMSE(y_true,y_pred) \n",
    "    \n",
    "    return  rmse\n",
    "\n",
    "def two_scorer_r2():\n",
    "    return make_scorer(two_score_r2, greater_is_better=True) \n",
    "\n",
    "def two_scorer_rmse():\n",
    "    return make_scorer(two_score_rmse, greater_is_better=True) \n",
    "\n",
    "#def RMSE_loss(a,b):\n",
    "    #return mean_squared_error(np.exp(a), np.exp(b), squared=False)\n",
    "#def R2_score(a,b):\n",
    "    #return metrics.r2_score(a,b)\n",
    "\n",
    "scoring={'r2': two_scorer_r2(),\n",
    "         'rmse': two_scorer_rmse()}\n"
   ]
  },
  {
   "cell_type": "code",
   "execution_count": 20,
   "id": "5e29f3a3",
   "metadata": {},
   "outputs": [],
   "source": [
    "result_cv_energy = cross_validate(model, X = X_train, y = y_train[\"SiteEnergyUse(kBtu)\"], scoring = scoring , return_train_score = True)\n",
    "result_cv_ghg = cross_validate(model, X = X_train, y = y_train[\"TotalGHGEmissions\"], scoring = scoring , return_train_score = True)\n"
   ]
  },
  {
   "cell_type": "code",
   "execution_count": 21,
   "id": "b5b3c212",
   "metadata": {},
   "outputs": [],
   "source": [
    "#  On va calculer les performances du modèle sur le test set \n",
    "model_dummy_energy = model.fit(X_train,y_train[\"SiteEnergyUse(kBtu)\"])\n",
    "prediction = model_dummy_energy.predict(X_test)\n",
    "results_test_r2_energy = model_dummy_energy.score(X_test, y_test[\"SiteEnergyUse(kBtu)\"])\n",
    "results_test_rmse_energy = mean_squared_error(np.exp(prediction), np.exp(y_test[\"SiteEnergyUse(kBtu)\"]), squared=False)"
   ]
  },
  {
   "cell_type": "code",
   "execution_count": 22,
   "id": "82f7a39e",
   "metadata": {},
   "outputs": [],
   "source": [
    "#  On va calculer les performances du modèle sur le test set\n",
    "model_dummy_ghg = model.fit(X_train,y_train[\"TotalGHGEmissions\"])\n",
    "prediction = model_dummy_ghg.predict(X_test)\n",
    "results_test_r2_ghg = model_dummy_ghg.score(X_test, y_test[\"TotalGHGEmissions\"])\n",
    "results_test_rmse_ghg= mean_squared_error(np.exp(prediction), np.exp(y_test[\"TotalGHGEmissions\"]), squared=False)"
   ]
  },
  {
   "cell_type": "code",
   "execution_count": 23,
   "id": "23efeab5",
   "metadata": {},
   "outputs": [],
   "source": [
    "resultats_energy={\"Model\"             :['DummyRegressor','Ridge','Support Vector Machines','RandomForest'],\n",
    "           \"results_train_r2\"  :[],\n",
    "           \"results_train_rmse\":[],\n",
    "           \"results_validation_r2\"   :[],\n",
    "           \"results_validation_rmse\" :[],\n",
    "           \"results_test_r2\"   :[],\n",
    "           \"results_test_rmse\" :[],\n",
    "           \"Training_time\"     :[],\n",
    "           \"Prediction_time\"   :[],\n",
    "          }\n",
    "resultats_ghg={\"Model\"             :['DummyRegressor','Ridge','Support Vector Machines','RandomForest'],\n",
    "           \"results_train_r2\"  :[],\n",
    "           \"results_train_rmse\":[],\n",
    "           \"results_validation_r2\"   :[],\n",
    "           \"results_validation_rmse\" :[],\n",
    "           \"results_test_r2\"   :[],\n",
    "           \"results_test_rmse\" :[],\n",
    "           \"Training_time\"     :[],\n",
    "           \"Prediction_time\"   :[],\n",
    "          }"
   ]
  },
  {
   "cell_type": "code",
   "execution_count": 24,
   "id": "18e899b7",
   "metadata": {},
   "outputs": [],
   "source": [
    "resultats_energy['results_train_r2'].append(result_cv_energy['train_r2'].mean())\n",
    "resultats_energy['results_train_rmse'].append(result_cv_energy['train_rmse'].mean())\n",
    "resultats_energy['results_validation_r2'].append(result_cv_energy['test_r2'].mean())\n",
    "resultats_energy['results_validation_rmse'].append(result_cv_energy['test_rmse'].mean())\n",
    "resultats_energy['results_test_r2'].append(results_test_r2_energy)\n",
    "resultats_energy['results_test_rmse'].append(results_test_rmse_energy)\n",
    "resultats_energy['Training_time'].append(result_cv_energy['fit_time'].mean())\n",
    "resultats_energy['Prediction_time'].append(result_cv_energy['score_time'].mean())"
   ]
  },
  {
   "cell_type": "code",
   "execution_count": 25,
   "id": "897ffada",
   "metadata": {},
   "outputs": [],
   "source": [
    "resultats_ghg['results_train_r2'].append(result_cv_ghg['train_r2'].mean())\n",
    "resultats_ghg['results_train_rmse'].append(result_cv_ghg['train_rmse'].mean())\n",
    "resultats_ghg['results_validation_r2'].append(result_cv_ghg['test_r2'].mean())\n",
    "resultats_ghg['results_validation_rmse'].append(result_cv_ghg['test_rmse'].mean())\n",
    "resultats_ghg['results_test_r2'].append(results_test_r2_ghg)\n",
    "resultats_ghg['results_test_rmse'].append(results_test_rmse_ghg)\n",
    "resultats_ghg['Training_time'].append(result_cv_ghg['fit_time'].mean())\n",
    "resultats_ghg['Prediction_time'].append(result_cv_ghg['score_time'].mean())"
   ]
  },
  {
   "cell_type": "code",
   "execution_count": 26,
   "id": "1bca7f34",
   "metadata": {},
   "outputs": [
    {
     "name": "stdout",
     "output_type": "stream",
     "text": [
      "Training r2 score: 0.0\n",
      "Training rmse score: 18529281.91443821\n",
      "Testing r2 score:-0.00042044577872975\n",
      "Testing rmse score: 16758864.815191736\n"
     ]
    }
   ],
   "source": [
    "print(\"Training r2 score: {}\".format(result_cv_energy['train_r2'].mean()))\n",
    "print(\"Training rmse score: {}\".format(result_cv_energy['train_rmse'].mean()))\n",
    "print(\"Testing r2 score:{}\".format(result_cv_energy['test_r2'].mean()))\n",
    "print(\"Testing rmse score: {}\".format(result_cv_energy['test_rmse'].mean()))"
   ]
  },
  {
   "cell_type": "markdown",
   "id": "283d1079",
   "metadata": {},
   "source": [
    "Pour la phase de training, Le résultats de la métrique 'r2' est logique, car son équation est égale à \n",
    "$ 1 -  \\frac{\\sum_{i=1}^n (y_i -\\hat{y _i})^2  }{\\sum_{i=1}^n (y_i -\\bar{y_i})^2  }$ où $\\hat{y _i}$ est la valeur prédite et  $ \\bar{y_i} $ est la moyenne des valeurs de y\n",
    "Alors dans notre cas où  $\\hat{y _i}$ = $ \\bar{y_i} $, $r2= 0$, on remarque que la valeur obtenue est quasi-nulle.\n",
    "\n",
    "Le score rmse veut dire que notre algorithme fait une erreur moyenne de 1.32 de l'unité de notre variable."
   ]
  },
  {
   "cell_type": "markdown",
   "id": "6573263a",
   "metadata": {},
   "source": [
    "### Modèle Ridgecv()"
   ]
  },
  {
   "cell_type": "code",
   "execution_count": 27,
   "id": "11a4e7a8",
   "metadata": {},
   "outputs": [],
   "source": [
    "from sklearn.linear_model import RidgeCV\n",
    "\n",
    "model = Pipeline([('preprocessor', preprocessor),('Regressor', RidgeCV(alphas=[ 1e-1,0.5, 1,1.5,2,3,4,5,10,20,30,100]))]) \n",
    "model_Ridge_energy=model.fit( X_train, y_train[\"SiteEnergyUse(kBtu)\"])\n",
    "model_Ridge_ghg=model.fit( X_train, y_train[\"TotalGHGEmissions\"])\n",
    "\n",
    "result_cv_energy = cross_validate(model_Ridge_energy, X = X_train, y = y_train[\"SiteEnergyUse(kBtu)\"], scoring = scoring , return_train_score = True)\n",
    "result_cv_ghg = cross_validate(model_Ridge_ghg, X = X_train, y = y_train[\"TotalGHGEmissions\"], scoring = scoring , return_train_score = True)\n"
   ]
  },
  {
   "cell_type": "code",
   "execution_count": 28,
   "id": "a47520ed",
   "metadata": {},
   "outputs": [],
   "source": [
    "#  On va calculer les performances du modèle sur le test set \n",
    "prediction = model_Ridge_energy.predict(X_test)\n",
    "results_test_r2_energy = model_Ridge_energy.score(X_test, y_test[\"SiteEnergyUse(kBtu)\"])\n",
    "results_test_rmse_energy = mean_squared_error(np.exp(prediction), np.exp(y_test[\"SiteEnergyUse(kBtu)\"]), squared=False)\n",
    "#  On va calculer les performances du modèle sur le test set\n",
    "prediction = model_Ridge_ghg.predict(X_test)\n",
    "results_test_r2_ghg = model_Ridge_ghg.score(X_test, y_test[\"TotalGHGEmissions\"])\n",
    "results_test_rmse_ghg= mean_squared_error(np.exp(prediction), np.exp(y_test[\"TotalGHGEmissions\"]), squared=False)"
   ]
  },
  {
   "cell_type": "code",
   "execution_count": 29,
   "id": "73d25511",
   "metadata": {},
   "outputs": [],
   "source": [
    "resultats_ghg['results_train_r2'].append(result_cv_ghg['train_r2'].mean())\n",
    "resultats_ghg['results_train_rmse'].append(result_cv_ghg['train_rmse'].mean())\n",
    "resultats_ghg['results_validation_r2'].append(result_cv_ghg['test_r2'].mean())\n",
    "resultats_ghg['results_validation_rmse'].append(result_cv_ghg['test_rmse'].mean())\n",
    "resultats_ghg['results_test_r2'].append(results_test_r2_ghg)\n",
    "resultats_ghg['results_test_rmse'].append(results_test_rmse_ghg)\n",
    "resultats_ghg['Training_time'].append(result_cv_ghg['fit_time'].mean())\n",
    "resultats_ghg['Prediction_time'].append(result_cv_ghg['score_time'].mean())"
   ]
  },
  {
   "cell_type": "code",
   "execution_count": 30,
   "id": "a75e5417",
   "metadata": {},
   "outputs": [],
   "source": [
    "resultats_energy['results_train_r2'].append(result_cv_energy['train_r2'].mean())\n",
    "resultats_energy['results_train_rmse'].append(result_cv_energy['train_rmse'].mean())\n",
    "resultats_energy['results_validation_r2'].append(result_cv_energy['test_r2'].mean())\n",
    "resultats_energy['results_validation_rmse'].append(result_cv_energy['test_rmse'].mean())\n",
    "resultats_energy['results_test_r2'].append(results_test_r2_energy)\n",
    "resultats_energy['results_test_rmse'].append(results_test_rmse_energy)\n",
    "resultats_energy['Training_time'].append(result_cv_energy['fit_time'].mean())\n",
    "resultats_energy['Prediction_time'].append(result_cv_energy['score_time'].mean())"
   ]
  },
  {
   "cell_type": "code",
   "execution_count": 31,
   "id": "5f0df4fe",
   "metadata": {},
   "outputs": [],
   "source": [
    "\n",
    "#!pip install -q keras==2.3.1"
   ]
  },
  {
   "cell_type": "code",
   "execution_count": 32,
   "id": "e7cdb89c",
   "metadata": {},
   "outputs": [
    {
     "name": "stderr",
     "output_type": "stream",
     "text": [
      "Using TensorFlow backend.\n"
     ]
    }
   ],
   "source": [
    "import eli5"
   ]
  },
  {
   "cell_type": "code",
   "execution_count": 33,
   "id": "6dc8b653",
   "metadata": {},
   "outputs": [
    {
     "name": "stdout",
     "output_type": "stream",
     "text": [
      " La meilleure valeur d'alpha pour SiteEnergyUse(kBtu) est : 0.1\n",
      " La meilleure valeur d'alpha pour TotalGHGEmissions est : 0.1\n"
     ]
    }
   ],
   "source": [
    "print(\" La meilleure valeur d'alpha pour SiteEnergyUse(kBtu) est : {}\".format(model_Ridge_energy[\"Regressor\"].alpha_))\n",
    "print(\" La meilleure valeur d'alpha pour TotalGHGEmissions est : {}\".format(model_Ridge_ghg[\"Regressor\"].alpha_))"
   ]
  },
  {
   "cell_type": "code",
   "execution_count": 34,
   "id": "bce39363",
   "metadata": {},
   "outputs": [],
   "source": [
    "preprocessor = model_Ridge_energy.named_steps[\"preprocessor\"]"
   ]
  },
  {
   "cell_type": "code",
   "execution_count": 35,
   "id": "b26c5472",
   "metadata": {},
   "outputs": [],
   "source": [
    "ohe_categories = preprocessor.named_transformers_[\"cat\"].categories_"
   ]
  },
  {
   "cell_type": "code",
   "execution_count": 36,
   "id": "7bc9796e",
   "metadata": {},
   "outputs": [],
   "source": [
    "new_ohe_features = [f\"{col}__{val}\" for col, vals in zip(categorical_features, ohe_categories) for val in vals]"
   ]
  },
  {
   "cell_type": "code",
   "execution_count": 37,
   "id": "d38e2fb4",
   "metadata": {},
   "outputs": [],
   "source": [
    "all_features = numeric_features + new_ohe_features"
   ]
  },
  {
   "cell_type": "code",
   "execution_count": 38,
   "id": "b7aeddc8",
   "metadata": {},
   "outputs": [
    {
     "data": {
      "text/plain": [
       "64"
      ]
     },
     "execution_count": 38,
     "metadata": {},
     "output_type": "execute_result"
    }
   ],
   "source": [
    "len(all_features)"
   ]
  },
  {
   "cell_type": "code",
   "execution_count": 39,
   "id": "a9af1645",
   "metadata": {},
   "outputs": [],
   "source": [
    "A = model[\"preprocessor\"].transform(X_train)"
   ]
  },
  {
   "cell_type": "code",
   "execution_count": 40,
   "id": "a9959fef",
   "metadata": {},
   "outputs": [
    {
     "data": {
      "text/plain": [
       "64"
      ]
     },
     "execution_count": 40,
     "metadata": {},
     "output_type": "execute_result"
    }
   ],
   "source": [
    "A.shape[1]"
   ]
  },
  {
   "cell_type": "code",
   "execution_count": 41,
   "id": "249e4981",
   "metadata": {},
   "outputs": [
    {
     "data": {
      "text/plain": [
       "(5225, 64)"
      ]
     },
     "execution_count": 41,
     "metadata": {},
     "output_type": "execute_result"
    }
   ],
   "source": [
    "A.shape"
   ]
  },
  {
   "cell_type": "markdown",
   "id": "e574442b",
   "metadata": {},
   "source": [
    "###  Modèle Support Vector Machines"
   ]
  },
  {
   "cell_type": "markdown",
   "id": "3f1e3f28",
   "metadata": {},
   "source": [
    "Dans cette partie on va utiliser la technique de \"cross_validation\" pour l'optimisation des hyper-paramètres  et la séléction du meilleur model."
   ]
  },
  {
   "cell_type": "code",
   "execution_count": 42,
   "id": "8ba91c69",
   "metadata": {},
   "outputs": [],
   "source": [
    "from sklearn import svm\n",
    "\n",
    "parameters = {'Regressor__kernel':('linear', 'rbf'), 'Regressor__C':[1,2,3, 10]}\n",
    "svr = svm.SVR()\n",
    "model_Energy = Pipeline([('preprocessor',preprocessor),('Regressor', svr)])\n",
    "model_GHG = Pipeline([('preprocessor',preprocessor),('Regressor', svr)])\n",
    "research_Energy = GridSearchCV(model_Energy, param_grid = parameters,scoring='r2',refit = True, return_train_score=True)\n",
    "research_GHG = GridSearchCV(model_GHG, param_grid = parameters,scoring='r2',refit = True, return_train_score=True)"
   ]
  },
  {
   "cell_type": "code",
   "execution_count": 43,
   "id": "6f2b3616",
   "metadata": {},
   "outputs": [
    {
     "data": {
      "text/html": [
       "<style>#sk-8a41a9ed-d8e1-4638-8036-172189e64359 {color: black;background-color: white;}#sk-8a41a9ed-d8e1-4638-8036-172189e64359 pre{padding: 0;}#sk-8a41a9ed-d8e1-4638-8036-172189e64359 div.sk-toggleable {background-color: white;}#sk-8a41a9ed-d8e1-4638-8036-172189e64359 label.sk-toggleable__label {cursor: pointer;display: block;width: 100%;margin-bottom: 0;padding: 0.2em 0.3em;box-sizing: border-box;text-align: center;}#sk-8a41a9ed-d8e1-4638-8036-172189e64359 div.sk-toggleable__content {max-height: 0;max-width: 0;overflow: hidden;text-align: left;background-color: #f0f8ff;}#sk-8a41a9ed-d8e1-4638-8036-172189e64359 div.sk-toggleable__content pre {margin: 0.2em;color: black;border-radius: 0.25em;background-color: #f0f8ff;}#sk-8a41a9ed-d8e1-4638-8036-172189e64359 input.sk-toggleable__control:checked~div.sk-toggleable__content {max-height: 200px;max-width: 100%;overflow: auto;}#sk-8a41a9ed-d8e1-4638-8036-172189e64359 div.sk-estimator input.sk-toggleable__control:checked~label.sk-toggleable__label {background-color: #d4ebff;}#sk-8a41a9ed-d8e1-4638-8036-172189e64359 div.sk-label input.sk-toggleable__control:checked~label.sk-toggleable__label {background-color: #d4ebff;}#sk-8a41a9ed-d8e1-4638-8036-172189e64359 input.sk-hidden--visually {border: 0;clip: rect(1px 1px 1px 1px);clip: rect(1px, 1px, 1px, 1px);height: 1px;margin: -1px;overflow: hidden;padding: 0;position: absolute;width: 1px;}#sk-8a41a9ed-d8e1-4638-8036-172189e64359 div.sk-estimator {font-family: monospace;background-color: #f0f8ff;margin: 0.25em 0.25em;border: 1px dotted black;border-radius: 0.25em;box-sizing: border-box;}#sk-8a41a9ed-d8e1-4638-8036-172189e64359 div.sk-estimator:hover {background-color: #d4ebff;}#sk-8a41a9ed-d8e1-4638-8036-172189e64359 div.sk-parallel-item::after {content: \"\";width: 100%;border-bottom: 1px solid gray;flex-grow: 1;}#sk-8a41a9ed-d8e1-4638-8036-172189e64359 div.sk-label:hover label.sk-toggleable__label {background-color: #d4ebff;}#sk-8a41a9ed-d8e1-4638-8036-172189e64359 div.sk-serial::before {content: \"\";position: absolute;border-left: 1px solid gray;box-sizing: border-box;top: 2em;bottom: 0;left: 50%;}#sk-8a41a9ed-d8e1-4638-8036-172189e64359 div.sk-serial {display: flex;flex-direction: column;align-items: center;background-color: white;}#sk-8a41a9ed-d8e1-4638-8036-172189e64359 div.sk-item {z-index: 1;}#sk-8a41a9ed-d8e1-4638-8036-172189e64359 div.sk-parallel {display: flex;align-items: stretch;justify-content: center;background-color: white;}#sk-8a41a9ed-d8e1-4638-8036-172189e64359 div.sk-parallel-item {display: flex;flex-direction: column;position: relative;background-color: white;}#sk-8a41a9ed-d8e1-4638-8036-172189e64359 div.sk-parallel-item:first-child::after {align-self: flex-end;width: 50%;}#sk-8a41a9ed-d8e1-4638-8036-172189e64359 div.sk-parallel-item:last-child::after {align-self: flex-start;width: 50%;}#sk-8a41a9ed-d8e1-4638-8036-172189e64359 div.sk-parallel-item:only-child::after {width: 0;}#sk-8a41a9ed-d8e1-4638-8036-172189e64359 div.sk-dashed-wrapped {border: 1px dashed gray;margin: 0.2em;box-sizing: border-box;padding-bottom: 0.1em;background-color: white;position: relative;}#sk-8a41a9ed-d8e1-4638-8036-172189e64359 div.sk-label label {font-family: monospace;font-weight: bold;background-color: white;display: inline-block;line-height: 1.2em;}#sk-8a41a9ed-d8e1-4638-8036-172189e64359 div.sk-label-container {position: relative;z-index: 2;text-align: center;}#sk-8a41a9ed-d8e1-4638-8036-172189e64359 div.sk-container {display: inline-block;position: relative;}</style><div id=\"sk-8a41a9ed-d8e1-4638-8036-172189e64359\" class\"sk-top-container\"><div class=\"sk-container\"><div class=\"sk-item sk-dashed-wrapped\"><div class=\"sk-label-container\"><div class=\"sk-label sk-toggleable\"><input class=\"sk-toggleable__control sk-hidden--visually\" id=\"91967f98-9651-4181-b607-48b1f78fd588\" type=\"checkbox\" ><label class=\"sk-toggleable__label\" for=\"91967f98-9651-4181-b607-48b1f78fd588\">GridSearchCV</label><div class=\"sk-toggleable__content\"><pre>GridSearchCV(estimator=Pipeline(steps=[('preprocessor',\n",
       "                                        ColumnTransformer(transformers=[('num',\n",
       "                                                                         Pipeline(steps=[('imputer',\n",
       "                                                                                          SimpleImputer()),\n",
       "                                                                                         ('scaler',\n",
       "                                                                                          StandardScaler())]),\n",
       "                                                                         ['PropertyGFAParking',\n",
       "                                                                          'PropertyGFABuilding(s)',\n",
       "                                                                          'ZipCode',\n",
       "                                                                          'Age',\n",
       "                                                                          'ThirdLargestPropertyUseTypeGFA',\n",
       "                                                                          'SecondLargestPropertyUseTypeGFA',\n",
       "                                                                          'LargestPropertyUseTypeGFA',\n",
       "                                                                          'NumberofFloors',\n",
       "                                                                          'NumberofBuildings',\n",
       "                                                                          'Latitude',\n",
       "                                                                          'Longitude',\n",
       "                                                                          'ENERGYSTARScore']),\n",
       "                                                                        ('cat',\n",
       "                                                                         OneHotEncoder(handle_unknown='ignore'),\n",
       "                                                                         ['BuildingType',\n",
       "                                                                          'PrimaryPropertyType',\n",
       "                                                                          'Neighborhood'])])),\n",
       "                                       ('Regressor', SVR())]),\n",
       "             param_grid={'Regressor__C': [1, 2, 3, 10],\n",
       "                         'Regressor__kernel': ('linear', 'rbf')},\n",
       "             return_train_score=True, scoring='r2')</pre></div></div></div><div class=\"sk-parallel\"><div class=\"sk-parallel-item\"><div class=\"sk-item\"><div class=\"sk-serial\"><div class=\"sk-item\"><div class=\"sk-serial\"><div class=\"sk-item sk-dashed-wrapped\"><div class=\"sk-label-container\"><div class=\"sk-label sk-toggleable\"><input class=\"sk-toggleable__control sk-hidden--visually\" id=\"d3b08515-415e-4df5-9e6b-c5af5b65eb13\" type=\"checkbox\" ><label class=\"sk-toggleable__label\" for=\"d3b08515-415e-4df5-9e6b-c5af5b65eb13\">preprocessor: ColumnTransformer</label><div class=\"sk-toggleable__content\"><pre>ColumnTransformer(transformers=[('num',\n",
       "                                 Pipeline(steps=[('imputer', SimpleImputer()),\n",
       "                                                 ('scaler', StandardScaler())]),\n",
       "                                 ['PropertyGFAParking',\n",
       "                                  'PropertyGFABuilding(s)', 'ZipCode', 'Age',\n",
       "                                  'ThirdLargestPropertyUseTypeGFA',\n",
       "                                  'SecondLargestPropertyUseTypeGFA',\n",
       "                                  'LargestPropertyUseTypeGFA', 'NumberofFloors',\n",
       "                                  'NumberofBuildings', 'Latitude', 'Longitude',\n",
       "                                  'ENERGYSTARScore']),\n",
       "                                ('cat', OneHotEncoder(handle_unknown='ignore'),\n",
       "                                 ['BuildingType', 'PrimaryPropertyType',\n",
       "                                  'Neighborhood'])])</pre></div></div></div><div class=\"sk-parallel\"><div class=\"sk-parallel-item\"><div class=\"sk-item\"><div class=\"sk-label-container\"><div class=\"sk-label sk-toggleable\"><input class=\"sk-toggleable__control sk-hidden--visually\" id=\"205c270c-e629-48d3-8183-6b1f4e59905b\" type=\"checkbox\" ><label class=\"sk-toggleable__label\" for=\"205c270c-e629-48d3-8183-6b1f4e59905b\">num</label><div class=\"sk-toggleable__content\"><pre>['PropertyGFAParking', 'PropertyGFABuilding(s)', 'ZipCode', 'Age', 'ThirdLargestPropertyUseTypeGFA', 'SecondLargestPropertyUseTypeGFA', 'LargestPropertyUseTypeGFA', 'NumberofFloors', 'NumberofBuildings', 'Latitude', 'Longitude', 'ENERGYSTARScore']</pre></div></div></div><div class=\"sk-serial\"><div class=\"sk-item\"><div class=\"sk-serial\"><div class=\"sk-item\"><div class=\"sk-estimator sk-toggleable\"><input class=\"sk-toggleable__control sk-hidden--visually\" id=\"13db28a8-63c1-43b8-b9db-3c5beafdcbc1\" type=\"checkbox\" ><label class=\"sk-toggleable__label\" for=\"13db28a8-63c1-43b8-b9db-3c5beafdcbc1\">SimpleImputer</label><div class=\"sk-toggleable__content\"><pre>SimpleImputer()</pre></div></div></div><div class=\"sk-item\"><div class=\"sk-estimator sk-toggleable\"><input class=\"sk-toggleable__control sk-hidden--visually\" id=\"0e40ba11-6a81-4fe0-8b5f-4eed135b75c0\" type=\"checkbox\" ><label class=\"sk-toggleable__label\" for=\"0e40ba11-6a81-4fe0-8b5f-4eed135b75c0\">StandardScaler</label><div class=\"sk-toggleable__content\"><pre>StandardScaler()</pre></div></div></div></div></div></div></div></div><div class=\"sk-parallel-item\"><div class=\"sk-item\"><div class=\"sk-label-container\"><div class=\"sk-label sk-toggleable\"><input class=\"sk-toggleable__control sk-hidden--visually\" id=\"df0bfc67-45ca-400f-8270-63f6198997fe\" type=\"checkbox\" ><label class=\"sk-toggleable__label\" for=\"df0bfc67-45ca-400f-8270-63f6198997fe\">cat</label><div class=\"sk-toggleable__content\"><pre>['BuildingType', 'PrimaryPropertyType', 'Neighborhood']</pre></div></div></div><div class=\"sk-serial\"><div class=\"sk-item\"><div class=\"sk-estimator sk-toggleable\"><input class=\"sk-toggleable__control sk-hidden--visually\" id=\"cffb5c98-710c-4079-a379-b7ffcbd1ad9e\" type=\"checkbox\" ><label class=\"sk-toggleable__label\" for=\"cffb5c98-710c-4079-a379-b7ffcbd1ad9e\">OneHotEncoder</label><div class=\"sk-toggleable__content\"><pre>OneHotEncoder(handle_unknown='ignore')</pre></div></div></div></div></div></div></div></div><div class=\"sk-item\"><div class=\"sk-estimator sk-toggleable\"><input class=\"sk-toggleable__control sk-hidden--visually\" id=\"4ac8e58a-d334-4d7a-aa0d-2946a7985b5b\" type=\"checkbox\" ><label class=\"sk-toggleable__label\" for=\"4ac8e58a-d334-4d7a-aa0d-2946a7985b5b\">SVR</label><div class=\"sk-toggleable__content\"><pre>SVR()</pre></div></div></div></div></div></div></div></div></div></div></div></div>"
      ],
      "text/plain": [
       "GridSearchCV(estimator=Pipeline(steps=[('preprocessor',\n",
       "                                        ColumnTransformer(transformers=[('num',\n",
       "                                                                         Pipeline(steps=[('imputer',\n",
       "                                                                                          SimpleImputer()),\n",
       "                                                                                         ('scaler',\n",
       "                                                                                          StandardScaler())]),\n",
       "                                                                         ['PropertyGFAParking',\n",
       "                                                                          'PropertyGFABuilding(s)',\n",
       "                                                                          'ZipCode',\n",
       "                                                                          'Age',\n",
       "                                                                          'ThirdLargestPropertyUseTypeGFA',\n",
       "                                                                          'SecondLargestPropertyUseTypeGFA',\n",
       "                                                                          'LargestPropertyUseTypeGFA',\n",
       "                                                                          'NumberofFloors',\n",
       "                                                                          'NumberofBuildings',\n",
       "                                                                          'Latitude',\n",
       "                                                                          'Longitude',\n",
       "                                                                          'ENERGYSTARScore']),\n",
       "                                                                        ('cat',\n",
       "                                                                         OneHotEncoder(handle_unknown='ignore'),\n",
       "                                                                         ['BuildingType',\n",
       "                                                                          'PrimaryPropertyType',\n",
       "                                                                          'Neighborhood'])])),\n",
       "                                       ('Regressor', SVR())]),\n",
       "             param_grid={'Regressor__C': [1, 2, 3, 10],\n",
       "                         'Regressor__kernel': ('linear', 'rbf')},\n",
       "             return_train_score=True, scoring='r2')"
      ]
     },
     "execution_count": 43,
     "metadata": {},
     "output_type": "execute_result"
    },
    {
     "data": {
      "text/html": [
       "<style>#sk-b69b44ac-74f1-4334-a4f1-c19416b7d253 {color: black;background-color: white;}#sk-b69b44ac-74f1-4334-a4f1-c19416b7d253 pre{padding: 0;}#sk-b69b44ac-74f1-4334-a4f1-c19416b7d253 div.sk-toggleable {background-color: white;}#sk-b69b44ac-74f1-4334-a4f1-c19416b7d253 label.sk-toggleable__label {cursor: pointer;display: block;width: 100%;margin-bottom: 0;padding: 0.2em 0.3em;box-sizing: border-box;text-align: center;}#sk-b69b44ac-74f1-4334-a4f1-c19416b7d253 div.sk-toggleable__content {max-height: 0;max-width: 0;overflow: hidden;text-align: left;background-color: #f0f8ff;}#sk-b69b44ac-74f1-4334-a4f1-c19416b7d253 div.sk-toggleable__content pre {margin: 0.2em;color: black;border-radius: 0.25em;background-color: #f0f8ff;}#sk-b69b44ac-74f1-4334-a4f1-c19416b7d253 input.sk-toggleable__control:checked~div.sk-toggleable__content {max-height: 200px;max-width: 100%;overflow: auto;}#sk-b69b44ac-74f1-4334-a4f1-c19416b7d253 div.sk-estimator input.sk-toggleable__control:checked~label.sk-toggleable__label {background-color: #d4ebff;}#sk-b69b44ac-74f1-4334-a4f1-c19416b7d253 div.sk-label input.sk-toggleable__control:checked~label.sk-toggleable__label {background-color: #d4ebff;}#sk-b69b44ac-74f1-4334-a4f1-c19416b7d253 input.sk-hidden--visually {border: 0;clip: rect(1px 1px 1px 1px);clip: rect(1px, 1px, 1px, 1px);height: 1px;margin: -1px;overflow: hidden;padding: 0;position: absolute;width: 1px;}#sk-b69b44ac-74f1-4334-a4f1-c19416b7d253 div.sk-estimator {font-family: monospace;background-color: #f0f8ff;margin: 0.25em 0.25em;border: 1px dotted black;border-radius: 0.25em;box-sizing: border-box;}#sk-b69b44ac-74f1-4334-a4f1-c19416b7d253 div.sk-estimator:hover {background-color: #d4ebff;}#sk-b69b44ac-74f1-4334-a4f1-c19416b7d253 div.sk-parallel-item::after {content: \"\";width: 100%;border-bottom: 1px solid gray;flex-grow: 1;}#sk-b69b44ac-74f1-4334-a4f1-c19416b7d253 div.sk-label:hover label.sk-toggleable__label {background-color: #d4ebff;}#sk-b69b44ac-74f1-4334-a4f1-c19416b7d253 div.sk-serial::before {content: \"\";position: absolute;border-left: 1px solid gray;box-sizing: border-box;top: 2em;bottom: 0;left: 50%;}#sk-b69b44ac-74f1-4334-a4f1-c19416b7d253 div.sk-serial {display: flex;flex-direction: column;align-items: center;background-color: white;}#sk-b69b44ac-74f1-4334-a4f1-c19416b7d253 div.sk-item {z-index: 1;}#sk-b69b44ac-74f1-4334-a4f1-c19416b7d253 div.sk-parallel {display: flex;align-items: stretch;justify-content: center;background-color: white;}#sk-b69b44ac-74f1-4334-a4f1-c19416b7d253 div.sk-parallel-item {display: flex;flex-direction: column;position: relative;background-color: white;}#sk-b69b44ac-74f1-4334-a4f1-c19416b7d253 div.sk-parallel-item:first-child::after {align-self: flex-end;width: 50%;}#sk-b69b44ac-74f1-4334-a4f1-c19416b7d253 div.sk-parallel-item:last-child::after {align-self: flex-start;width: 50%;}#sk-b69b44ac-74f1-4334-a4f1-c19416b7d253 div.sk-parallel-item:only-child::after {width: 0;}#sk-b69b44ac-74f1-4334-a4f1-c19416b7d253 div.sk-dashed-wrapped {border: 1px dashed gray;margin: 0.2em;box-sizing: border-box;padding-bottom: 0.1em;background-color: white;position: relative;}#sk-b69b44ac-74f1-4334-a4f1-c19416b7d253 div.sk-label label {font-family: monospace;font-weight: bold;background-color: white;display: inline-block;line-height: 1.2em;}#sk-b69b44ac-74f1-4334-a4f1-c19416b7d253 div.sk-label-container {position: relative;z-index: 2;text-align: center;}#sk-b69b44ac-74f1-4334-a4f1-c19416b7d253 div.sk-container {display: inline-block;position: relative;}</style><div id=\"sk-b69b44ac-74f1-4334-a4f1-c19416b7d253\" class\"sk-top-container\"><div class=\"sk-container\"><div class=\"sk-item sk-dashed-wrapped\"><div class=\"sk-label-container\"><div class=\"sk-label sk-toggleable\"><input class=\"sk-toggleable__control sk-hidden--visually\" id=\"1435a01a-eede-41ea-8584-d077fa827c45\" type=\"checkbox\" ><label class=\"sk-toggleable__label\" for=\"1435a01a-eede-41ea-8584-d077fa827c45\">GridSearchCV</label><div class=\"sk-toggleable__content\"><pre>GridSearchCV(estimator=Pipeline(steps=[('preprocessor',\n",
       "                                        ColumnTransformer(transformers=[('num',\n",
       "                                                                         Pipeline(steps=[('imputer',\n",
       "                                                                                          SimpleImputer()),\n",
       "                                                                                         ('scaler',\n",
       "                                                                                          StandardScaler())]),\n",
       "                                                                         ['PropertyGFAParking',\n",
       "                                                                          'PropertyGFABuilding(s)',\n",
       "                                                                          'ZipCode',\n",
       "                                                                          'Age',\n",
       "                                                                          'ThirdLargestPropertyUseTypeGFA',\n",
       "                                                                          'SecondLargestPropertyUseTypeGFA',\n",
       "                                                                          'LargestPropertyUseTypeGFA',\n",
       "                                                                          'NumberofFloors',\n",
       "                                                                          'NumberofBuildings',\n",
       "                                                                          'Latitude',\n",
       "                                                                          'Longitude',\n",
       "                                                                          'ENERGYSTARScore']),\n",
       "                                                                        ('cat',\n",
       "                                                                         OneHotEncoder(handle_unknown='ignore'),\n",
       "                                                                         ['BuildingType',\n",
       "                                                                          'PrimaryPropertyType',\n",
       "                                                                          'Neighborhood'])])),\n",
       "                                       ('Regressor', SVR())]),\n",
       "             param_grid={'Regressor__C': [1, 2, 3, 10],\n",
       "                         'Regressor__kernel': ('linear', 'rbf')},\n",
       "             return_train_score=True, scoring='r2')</pre></div></div></div><div class=\"sk-parallel\"><div class=\"sk-parallel-item\"><div class=\"sk-item\"><div class=\"sk-serial\"><div class=\"sk-item\"><div class=\"sk-serial\"><div class=\"sk-item sk-dashed-wrapped\"><div class=\"sk-label-container\"><div class=\"sk-label sk-toggleable\"><input class=\"sk-toggleable__control sk-hidden--visually\" id=\"dfde7269-ed9d-4654-8e2f-457fbf0723d0\" type=\"checkbox\" ><label class=\"sk-toggleable__label\" for=\"dfde7269-ed9d-4654-8e2f-457fbf0723d0\">preprocessor: ColumnTransformer</label><div class=\"sk-toggleable__content\"><pre>ColumnTransformer(transformers=[('num',\n",
       "                                 Pipeline(steps=[('imputer', SimpleImputer()),\n",
       "                                                 ('scaler', StandardScaler())]),\n",
       "                                 ['PropertyGFAParking',\n",
       "                                  'PropertyGFABuilding(s)', 'ZipCode', 'Age',\n",
       "                                  'ThirdLargestPropertyUseTypeGFA',\n",
       "                                  'SecondLargestPropertyUseTypeGFA',\n",
       "                                  'LargestPropertyUseTypeGFA', 'NumberofFloors',\n",
       "                                  'NumberofBuildings', 'Latitude', 'Longitude',\n",
       "                                  'ENERGYSTARScore']),\n",
       "                                ('cat', OneHotEncoder(handle_unknown='ignore'),\n",
       "                                 ['BuildingType', 'PrimaryPropertyType',\n",
       "                                  'Neighborhood'])])</pre></div></div></div><div class=\"sk-parallel\"><div class=\"sk-parallel-item\"><div class=\"sk-item\"><div class=\"sk-label-container\"><div class=\"sk-label sk-toggleable\"><input class=\"sk-toggleable__control sk-hidden--visually\" id=\"abc1ce5b-eb4c-4f40-ba7c-d194e80316b7\" type=\"checkbox\" ><label class=\"sk-toggleable__label\" for=\"abc1ce5b-eb4c-4f40-ba7c-d194e80316b7\">num</label><div class=\"sk-toggleable__content\"><pre>['PropertyGFAParking', 'PropertyGFABuilding(s)', 'ZipCode', 'Age', 'ThirdLargestPropertyUseTypeGFA', 'SecondLargestPropertyUseTypeGFA', 'LargestPropertyUseTypeGFA', 'NumberofFloors', 'NumberofBuildings', 'Latitude', 'Longitude', 'ENERGYSTARScore']</pre></div></div></div><div class=\"sk-serial\"><div class=\"sk-item\"><div class=\"sk-serial\"><div class=\"sk-item\"><div class=\"sk-estimator sk-toggleable\"><input class=\"sk-toggleable__control sk-hidden--visually\" id=\"d9bf5bc8-0afe-4dd5-ac10-e9d94601fa9b\" type=\"checkbox\" ><label class=\"sk-toggleable__label\" for=\"d9bf5bc8-0afe-4dd5-ac10-e9d94601fa9b\">SimpleImputer</label><div class=\"sk-toggleable__content\"><pre>SimpleImputer()</pre></div></div></div><div class=\"sk-item\"><div class=\"sk-estimator sk-toggleable\"><input class=\"sk-toggleable__control sk-hidden--visually\" id=\"2280e5e5-6942-46b1-b4ba-ba02a4e0d118\" type=\"checkbox\" ><label class=\"sk-toggleable__label\" for=\"2280e5e5-6942-46b1-b4ba-ba02a4e0d118\">StandardScaler</label><div class=\"sk-toggleable__content\"><pre>StandardScaler()</pre></div></div></div></div></div></div></div></div><div class=\"sk-parallel-item\"><div class=\"sk-item\"><div class=\"sk-label-container\"><div class=\"sk-label sk-toggleable\"><input class=\"sk-toggleable__control sk-hidden--visually\" id=\"2924e078-20d7-4d8d-a38a-fefb24282732\" type=\"checkbox\" ><label class=\"sk-toggleable__label\" for=\"2924e078-20d7-4d8d-a38a-fefb24282732\">cat</label><div class=\"sk-toggleable__content\"><pre>['BuildingType', 'PrimaryPropertyType', 'Neighborhood']</pre></div></div></div><div class=\"sk-serial\"><div class=\"sk-item\"><div class=\"sk-estimator sk-toggleable\"><input class=\"sk-toggleable__control sk-hidden--visually\" id=\"85b20a58-233c-4500-9ee3-7b7dec1aed38\" type=\"checkbox\" ><label class=\"sk-toggleable__label\" for=\"85b20a58-233c-4500-9ee3-7b7dec1aed38\">OneHotEncoder</label><div class=\"sk-toggleable__content\"><pre>OneHotEncoder(handle_unknown='ignore')</pre></div></div></div></div></div></div></div></div><div class=\"sk-item\"><div class=\"sk-estimator sk-toggleable\"><input class=\"sk-toggleable__control sk-hidden--visually\" id=\"036d853f-d32d-4fbf-ae76-6823ed1b8969\" type=\"checkbox\" ><label class=\"sk-toggleable__label\" for=\"036d853f-d32d-4fbf-ae76-6823ed1b8969\">SVR</label><div class=\"sk-toggleable__content\"><pre>SVR()</pre></div></div></div></div></div></div></div></div></div></div></div></div>"
      ],
      "text/plain": [
       "GridSearchCV(estimator=Pipeline(steps=[('preprocessor',\n",
       "                                        ColumnTransformer(transformers=[('num',\n",
       "                                                                         Pipeline(steps=[('imputer',\n",
       "                                                                                          SimpleImputer()),\n",
       "                                                                                         ('scaler',\n",
       "                                                                                          StandardScaler())]),\n",
       "                                                                         ['PropertyGFAParking',\n",
       "                                                                          'PropertyGFABuilding(s)',\n",
       "                                                                          'ZipCode',\n",
       "                                                                          'Age',\n",
       "                                                                          'ThirdLargestPropertyUseTypeGFA',\n",
       "                                                                          'SecondLargestPropertyUseTypeGFA',\n",
       "                                                                          'LargestPropertyUseTypeGFA',\n",
       "                                                                          'NumberofFloors',\n",
       "                                                                          'NumberofBuildings',\n",
       "                                                                          'Latitude',\n",
       "                                                                          'Longitude',\n",
       "                                                                          'ENERGYSTARScore']),\n",
       "                                                                        ('cat',\n",
       "                                                                         OneHotEncoder(handle_unknown='ignore'),\n",
       "                                                                         ['BuildingType',\n",
       "                                                                          'PrimaryPropertyType',\n",
       "                                                                          'Neighborhood'])])),\n",
       "                                       ('Regressor', SVR())]),\n",
       "             param_grid={'Regressor__C': [1, 2, 3, 10],\n",
       "                         'Regressor__kernel': ('linear', 'rbf')},\n",
       "             return_train_score=True, scoring='r2')"
      ]
     },
     "execution_count": 43,
     "metadata": {},
     "output_type": "execute_result"
    }
   ],
   "source": [
    "research_Energy.fit(X_train, y_train['SiteEnergyUse(kBtu)'])\n",
    "research_GHG.fit(X_train, y_train['TotalGHGEmissions'])"
   ]
  },
  {
   "cell_type": "code",
   "execution_count": 44,
   "id": "97a79978",
   "metadata": {},
   "outputs": [
    {
     "data": {
      "text/plain": [
       "{'Regressor__C': 10, 'Regressor__kernel': 'rbf'}"
      ]
     },
     "execution_count": 44,
     "metadata": {},
     "output_type": "execute_result"
    },
    {
     "data": {
      "text/plain": [
       "{'Regressor__C': 10, 'Regressor__kernel': 'rbf'}"
      ]
     },
     "execution_count": 44,
     "metadata": {},
     "output_type": "execute_result"
    }
   ],
   "source": [
    "research_Energy.best_params_\n",
    "research_GHG.best_params_"
   ]
  },
  {
   "cell_type": "code",
   "execution_count": 45,
   "id": "9bc0743e",
   "metadata": {},
   "outputs": [],
   "source": [
    "#svr = svm.SVR(C=10,kernel='rbf')\n"
   ]
  },
  {
   "cell_type": "code",
   "execution_count": 46,
   "id": "b99a7770",
   "metadata": {},
   "outputs": [],
   "source": [
    "#svr = svm.SVR(C=10,kernel='rbf')\n",
    "model_svr_energy = research_Energy.best_estimator_\n",
    "\n",
    "#model_svr_energy =  model_svr_energy.fit(X_train, y_train['SiteEnergyUse(kBtu)'])\n",
    "\n",
    "\n",
    "\n",
    "model_svr_GHG = research_GHG.best_estimator_\n",
    "\n",
    "#model_svr_GHG = model_svr_GHG.fit(X_train, y_train['TotalGHGEmissions'])\n",
    "\n",
    "\n",
    "prediction = model_svr_GHG.predict(X_test)\n",
    "results_test_r2_ghg= model_svr_GHG.score(X_test,y_test['TotalGHGEmissions'])\n",
    "results_test_rmse_ghg = mean_squared_error(model_svr_GHG.predict(X_test),y_test['TotalGHGEmissions'], squared=False)\n",
    "\n",
    "prediction = model_svr_energy.predict(X_test)\n",
    "results_test_r2_energy= model_svr_energy.score(X_test,y_test['SiteEnergyUse(kBtu)'])\n",
    "results_test_rmse_energy = mean_squared_error(np.exp(prediction), np.exp(y_test['SiteEnergyUse(kBtu)']), squared=False)\n",
    "\n",
    "result_cv_energy = cross_validate(model_svr_energy, X = X_train, y = y_train['SiteEnergyUse(kBtu)'], scoring = scoring , return_train_score = True)\n",
    "result_cv_ghg = cross_validate(model_svr_GHG, X = X_train, y = y_train['TotalGHGEmissions'], scoring = scoring , return_train_score = True)\n",
    "\n"
   ]
  },
  {
   "cell_type": "code",
   "execution_count": 47,
   "id": "ddc794c1",
   "metadata": {},
   "outputs": [],
   "source": [
    "resultats_ghg['results_train_r2'].append(result_cv_ghg['train_r2'].mean())\n",
    "resultats_ghg['results_train_rmse'].append(result_cv_ghg['train_rmse'].mean())\n",
    "resultats_ghg['results_validation_r2'].append(result_cv_ghg['test_r2'].mean())\n",
    "resultats_ghg['results_validation_rmse'].append(result_cv_ghg['test_rmse'].mean())\n",
    "resultats_ghg['results_test_r2'].append(results_test_r2_ghg)\n",
    "resultats_ghg['results_test_rmse'].append(results_test_rmse_ghg)\n",
    "resultats_ghg['Training_time'].append(result_cv_ghg['fit_time'].mean())\n",
    "resultats_ghg['Prediction_time'].append(result_cv_ghg['score_time'].mean())\n"
   ]
  },
  {
   "cell_type": "code",
   "execution_count": 48,
   "id": "1d1b739f",
   "metadata": {
    "scrolled": true
   },
   "outputs": [],
   "source": [
    "resultats_energy['results_train_r2'].append(result_cv_energy['train_r2'].mean())\n",
    "resultats_energy['results_train_rmse'].append(result_cv_energy['train_rmse'].mean())\n",
    "resultats_energy['results_validation_r2'].append(result_cv_energy['test_r2'].mean())\n",
    "resultats_energy['results_validation_rmse'].append(result_cv_energy['test_rmse'].mean())\n",
    "resultats_energy['results_test_r2'].append(results_test_r2_energy)\n",
    "resultats_energy['results_test_rmse'].append(results_test_rmse_energy)\n",
    "resultats_energy['Training_time'].append(result_cv_energy['fit_time'].mean())\n",
    "resultats_energy['Prediction_time'].append(result_cv_energy['score_time'].mean())\n"
   ]
  },
  {
   "cell_type": "markdown",
   "id": "5f6c7ad0",
   "metadata": {},
   "source": [
    "### Modèle RandomForest"
   ]
  },
  {
   "cell_type": "code",
   "execution_count": 49,
   "id": "fa9638a7",
   "metadata": {},
   "outputs": [],
   "source": [
    "from sklearn.ensemble import RandomForestRegressor\n",
    "from sklearn.model_selection import GridSearchCV\n",
    "model_forest = Pipeline([('preprocessor',preprocessor),('Regressor', RandomForestRegressor())]) "
   ]
  },
  {
   "cell_type": "markdown",
   "id": "a9527245",
   "metadata": {},
   "source": [
    " On va essayer de trouver les meilleurs hyper-paramètres à l'aide de 'gridsearch'"
   ]
  },
  {
   "cell_type": "code",
   "execution_count": 50,
   "id": "bba19da5",
   "metadata": {},
   "outputs": [],
   "source": [
    "\n",
    "param_grid = {'Regressor__min_samples_split' :[2, 3], # Minimum number of samples required to split a node \n",
    "              'Regressor__min_samples_leaf'  :[1, 2], # Minimum number of samples required at each leaf node\n",
    "              'Regressor__max_features'      :['auto', 'sqrt'], # Number of features to consider at every split\n",
    "              'Regressor__max_depth'         : [None, 2, 4, 6],# Maximum number of levels in tree\n",
    "             }\n",
    "research_energy = GridSearchCV(model_forest, param_grid = param_grid, scoring='r2', return_train_score=True)\n",
    "research_ghg = GridSearchCV(model_forest, param_grid = param_grid, scoring='r2', return_train_score=True)"
   ]
  },
  {
   "cell_type": "code",
   "execution_count": 51,
   "id": "0d6c7369",
   "metadata": {},
   "outputs": [],
   "source": [
    "model_forest_energy = research_energy.fit(X_train, y_train[\"SiteEnergyUse(kBtu)\"])\n",
    "model_forest_ghg = research_ghg.fit(X_train, y_train[\"TotalGHGEmissions\"])"
   ]
  },
  {
   "cell_type": "code",
   "execution_count": 52,
   "id": "49994f8b",
   "metadata": {},
   "outputs": [
    {
     "data": {
      "text/plain": [
       "{'Regressor__max_depth': None,\n",
       " 'Regressor__max_features': 'sqrt',\n",
       " 'Regressor__min_samples_leaf': 1,\n",
       " 'Regressor__min_samples_split': 2}"
      ]
     },
     "execution_count": 52,
     "metadata": {},
     "output_type": "execute_result"
    }
   ],
   "source": [
    "model_forest_energy.best_params_"
   ]
  },
  {
   "cell_type": "code",
   "execution_count": 53,
   "id": "5762c836",
   "metadata": {
    "scrolled": false
   },
   "outputs": [
    {
     "data": {
      "text/plain": [
       "{'Regressor__max_depth': None,\n",
       " 'Regressor__max_features': 'auto',\n",
       " 'Regressor__min_samples_leaf': 1,\n",
       " 'Regressor__min_samples_split': 2}"
      ]
     },
     "execution_count": 53,
     "metadata": {},
     "output_type": "execute_result"
    }
   ],
   "source": [
    "model_forest_ghg.best_params_"
   ]
  },
  {
   "cell_type": "code",
   "execution_count": 54,
   "id": "b007253c",
   "metadata": {},
   "outputs": [],
   "source": [
    "model_forest_energy = model_forest_energy.best_estimator_\n",
    "model_forest_ghg = model_forest_ghg.best_estimator_"
   ]
  },
  {
   "cell_type": "code",
   "execution_count": 55,
   "id": "744b83a5",
   "metadata": {},
   "outputs": [],
   "source": [
    "\n",
    "#model_forest = Pipeline([('preprocessor',preprocessor),('Regressor', RandomForestRegressor( max_depth = research.best_params_['Regressor__max_depth'], min_samples_split = research.best_params_['Regressor__min_samples_split'], min_samples_leaf = research.best_params_['Regressor__min_samples_leaf'], max_features = research.best_params_['Regressor__max_features']))]) \n",
    "\n",
    "\n",
    "prediction = model_forest_energy.predict(X_test)\n",
    "results_test_r2_energy= model_forest_energy.score(X_test,y_test[\"SiteEnergyUse(kBtu)\"])\n",
    "results_test_rmse_energy = mean_squared_error(np.exp(prediction),np.exp(y_test[\"SiteEnergyUse(kBtu)\"]), squared=False)\n",
    "\n",
    "prediction = model_forest_ghg.predict(X_test)\n",
    "\n",
    "results_test_r2_ghg= model_forest_ghg.score(X_test,y_test[\"TotalGHGEmissions\"])\n",
    "results_test_rmse_ghg = mean_squared_error(np.exp(prediction),np.exp(y_test[\"TotalGHGEmissions\"]), squared=False)\n",
    "\n",
    "result_cv_energy = cross_validate(model_forest_energy, X = X_train, y = y_train[\"SiteEnergyUse(kBtu)\"], scoring = scoring , return_train_score = True)\n",
    "result_cv_ghg = cross_validate(model_forest_ghg, X = X_train, y = y_train[\"TotalGHGEmissions\"], scoring = scoring , return_train_score = True)\n"
   ]
  },
  {
   "cell_type": "code",
   "execution_count": 56,
   "id": "e90a84c5",
   "metadata": {},
   "outputs": [],
   "source": [
    "resultats_ghg['results_train_r2'].append(result_cv_ghg['train_r2'].mean())\n",
    "resultats_ghg['results_train_rmse'].append(result_cv_ghg['train_rmse'].mean())\n",
    "resultats_ghg['results_validation_r2'].append(result_cv_ghg['test_r2'].mean())\n",
    "resultats_ghg['results_validation_rmse'].append(result_cv_ghg['test_rmse'].mean())\n",
    "resultats_ghg['results_test_r2'].append(results_test_r2_ghg)\n",
    "resultats_ghg['results_test_rmse'].append(results_test_rmse_ghg)\n",
    "resultats_ghg['Training_time'].append(result_cv_ghg['fit_time'].mean())\n",
    "resultats_ghg['Prediction_time'].append(result_cv_ghg['score_time'].mean())\n",
    "\n",
    "resultats_energy['results_train_r2'].append(result_cv_energy['train_r2'].mean())\n",
    "resultats_energy['results_train_rmse'].append(result_cv_energy['train_rmse'].mean())\n",
    "resultats_energy['results_validation_r2'].append(result_cv_energy['test_r2'].mean())\n",
    "resultats_energy['results_validation_rmse'].append(result_cv_energy['test_rmse'].mean())\n",
    "resultats_energy['results_test_r2'].append(results_test_r2_energy)\n",
    "resultats_energy['results_test_rmse'].append(results_test_rmse_energy)\n",
    "resultats_energy['Training_time'].append(result_cv_energy['fit_time'].mean())\n",
    "resultats_energy['Prediction_time'].append(result_cv_energy['score_time'].mean())"
   ]
  },
  {
   "cell_type": "code",
   "execution_count": 57,
   "id": "5e838e5a",
   "metadata": {},
   "outputs": [],
   "source": [
    "import matplotlib.pyplot as plt"
   ]
  },
  {
   "cell_type": "code",
   "execution_count": 58,
   "id": "a4d1cf80",
   "metadata": {},
   "outputs": [
    {
     "data": {
      "text/plain": [
       "<AxesSubplot:title={'center':'Training_time'}, xlabel='Model'>"
      ]
     },
     "execution_count": 58,
     "metadata": {},
     "output_type": "execute_result"
    },
    {
     "data": {
      "text/plain": [
       "<AxesSubplot:title={'center':'Prediction_time'}, xlabel='Model'>"
      ]
     },
     "execution_count": 58,
     "metadata": {},
     "output_type": "execute_result"
    },
    {
     "data": {
      "text/plain": [
       "<AxesSubplot:title={'center':'r2_score'}, xlabel='Model'>"
      ]
     },
     "execution_count": 58,
     "metadata": {},
     "output_type": "execute_result"
    },
    {
     "data": {
      "text/plain": [
       "<AxesSubplot:title={'center':'rmse_score'}, xlabel='Model'>"
      ]
     },
     "execution_count": 58,
     "metadata": {},
     "output_type": "execute_result"
    },
    {
     "data": {
      "text/plain": [
       "<AxesSubplot:title={'center':'rmse_score'}, xlabel='Model'>"
      ]
     },
     "execution_count": 58,
     "metadata": {},
     "output_type": "execute_result"
    },
    {
     "data": {
      "image/png": "[encoded data removed]",
      "text/plain": [
       "<Figure size 432x288 with 1 Axes>"
      ]
     },
     "metadata": {
      "needs_background": "light"
     },
     "output_type": "display_data"
    },
    {
     "data": {
      "image/png": "[encoded data removed]",
      "text/plain": [
       "<Figure size 432x288 with 1 Axes>"
      ]
     },
     "metadata": {
      "needs_background": "light"
     },
     "output_type": "display_data"
    },
    {
     "data": {
      "image/png": "[encoded data removed]",
      "text/plain": [
       "<Figure size 432x288 with 1 Axes>"
      ]
     },
     "metadata": {
      "needs_background": "light"
     },
     "output_type": "display_data"
    },
    {
     "data": {
      "image/png": "[encoded data removed]",
      "text/plain": [
       "<Figure size 432x288 with 1 Axes>"
      ]
     },
     "metadata": {
      "needs_background": "light"
     },
     "output_type": "display_data"
    },
    {
     "data": {
      "image/png": "[encoded data removed]",
      "text/plain": [
       "<Figure size 432x288 with 1 Axes>"
      ]
     },
     "metadata": {
      "needs_background": "light"
     },
     "output_type": "display_data"
    }
   ],
   "source": [
    "\n",
    "#results_df = pd.DataFrame.from_dict(resultats).set_index('Model')\n",
    "results_df = pd.DataFrame.from_dict(resultats_ghg).set_index('Model')\n",
    "\n",
    "results_df[[\"Training_time\"]].plot(kind = 'bar', grid = True, title = \"Training_time\" )\n",
    "results_df.drop([\"Training_time\"],axis=1, inplace=True)\n",
    "\n",
    "results_df[[\"Prediction_time\"]].plot(kind='bar', grid = True, title = \"Prediction_time\")\n",
    "results_df.drop([\"Prediction_time\"],axis=1, inplace=True)\n",
    "\n",
    "results_df[[\"results_train_r2\",\"results_validation_r2\",'results_test_r2']].plot(kind='bar' , grid = True, title = \"r2_score\")\n",
    "results_df.drop([\"results_train_r2\",\"results_validation_r2\",\"results_test_r2\"],axis=1, inplace=True)\n",
    "\n",
    "results_df.plot(kind='bar', grid = True, title = \"rmse_score\",use_index = True)\n",
    "results_df.drop(index='Ridge',inplace = True)\n",
    "results_df.plot(kind='bar', grid = True, title = \"rmse_score\")\n"
   ]
  },
  {
   "cell_type": "code",
   "execution_count": 59,
   "id": "f85b36a8",
   "metadata": {},
   "outputs": [
    {
     "data": {
      "text/plain": [
       "<AxesSubplot:title={'center':'Training_time'}, xlabel='Model'>"
      ]
     },
     "execution_count": 59,
     "metadata": {},
     "output_type": "execute_result"
    },
    {
     "data": {
      "text/plain": [
       "<AxesSubplot:title={'center':'Prediction_time'}, xlabel='Model'>"
      ]
     },
     "execution_count": 59,
     "metadata": {},
     "output_type": "execute_result"
    },
    {
     "data": {
      "text/plain": [
       "<AxesSubplot:title={'center':'r2_score'}, xlabel='Model'>"
      ]
     },
     "execution_count": 59,
     "metadata": {},
     "output_type": "execute_result"
    },
    {
     "data": {
      "text/plain": [
       "<AxesSubplot:title={'center':'r2_score'}, xlabel='Model'>"
      ]
     },
     "execution_count": 59,
     "metadata": {},
     "output_type": "execute_result"
    },
    {
     "data": {
      "text/plain": [
       "<AxesSubplot:title={'center':'rmse_score'}, xlabel='Model'>"
      ]
     },
     "execution_count": 59,
     "metadata": {},
     "output_type": "execute_result"
    },
    {
     "data": {
      "text/plain": [
       "<AxesSubplot:title={'center':'rmse_score'}, xlabel='Model'>"
      ]
     },
     "execution_count": 59,
     "metadata": {},
     "output_type": "execute_result"
    },
    {
     "data": {
      "image/png": "[encoded data removed]",
      "text/plain": [
       "<Figure size 432x288 with 1 Axes>"
      ]
     },
     "metadata": {
      "needs_background": "light"
     },
     "output_type": "display_data"
    },
    {
     "data": {
      "image/png": "[encoded data removed]",
      "text/plain": [
       "<Figure size 432x288 with 1 Axes>"
      ]
     },
     "metadata": {
      "needs_background": "light"
     },
     "output_type": "display_data"
    },
    {
     "data": {
      "image/png": "[encoded data removed]",
      "text/plain": [
       "<Figure size 432x288 with 1 Axes>"
      ]
     },
     "metadata": {
      "needs_background": "light"
     },
     "output_type": "display_data"
    },
    {
     "data": {
      "image/png": "[encoded data removed]",
      "text/plain": [
       "<Figure size 432x288 with 1 Axes>"
      ]
     },
     "metadata": {
      "needs_background": "light"
     },
     "output_type": "display_data"
    },
    {
     "data": {
      "image/png": "[encoded data removed]",
      "text/plain": [
       "<Figure size 432x288 with 1 Axes>"
      ]
     },
     "metadata": {
      "needs_background": "light"
     },
     "output_type": "display_data"
    },
    {
     "data": {
      "image/png": "[encoded data removed]",
      "text/plain": [
       "<Figure size 432x288 with 1 Axes>"
      ]
     },
     "metadata": {
      "needs_background": "light"
     },
     "output_type": "display_data"
    }
   ],
   "source": [
    "results_df = pd.DataFrame.from_dict(resultats_energy).set_index('Model')\n",
    "\n",
    "results_df[[\"Training_time\"]].plot(kind = 'bar', grid = True, title = \"Training_time\" )\n",
    "results_df.drop([\"Training_time\"],axis=1, inplace=True)\n",
    "\n",
    "results_df[[\"Prediction_time\"]].plot(kind='bar', grid = True, title = \"Prediction_time\")\n",
    "results_df.drop([\"Prediction_time\"],axis=1, inplace=True)\n",
    "\n",
    "results_df[[\"results_train_r2\",\"results_validation_r2\",'results_test_r2']].plot(kind='bar' , grid = True, title = \"r2_score\")\n",
    "\n",
    "results_df[[\"results_train_r2\",\"results_validation_r2\",'results_test_r2']].drop(index='Ridge').plot(kind='bar' , grid = True, title = \"r2_score\")\n",
    "\n",
    "results_df.drop([\"results_train_r2\",\"results_validation_r2\",'results_test_r2'],axis=1, inplace=True)\n",
    "\n",
    "results_df.plot(kind='bar', grid = True, title = \"rmse_score\",use_index = True)\n",
    "results_df.drop(index='Ridge',inplace = True)\n",
    "results_df.plot(kind='bar', grid = True, title = \"rmse_score\")\n"
   ]
  },
  {
   "cell_type": "markdown",
   "id": "610b1251",
   "metadata": {},
   "source": [
    "On remarque que le support vector machine est avantagé au niveau du temps d'apprentissage, alors que RandomForest est l'algorithme qui généralise le mieux et il a un temps de prédiction meilleur."
   ]
  },
  {
   "cell_type": "markdown",
   "id": "c24768b8",
   "metadata": {},
   "source": [
    "## évaluation de  l’intérêt de la variable \"ENERGYSTARScore\" pour la prédiction d’émissions"
   ]
  },
  {
   "cell_type": "code",
   "execution_count": 60,
   "id": "9a378485",
   "metadata": {},
   "outputs": [],
   "source": [
    "#model_forest = Pipeline([('preprocessor',preprocessor),('Regressor', RandomForestRegressor( max_depth = research.best_params_['Regressor__max_depth'], min_samples_split = research.best_params_['Regressor__min_samples_split'], min_samples_leaf = research.best_params_['Regressor__min_samples_leaf'], max_features = research.best_params_['Regressor__max_features']))]) \n",
    "\n",
    "#start = time.time()\n",
    "#model_forest.fit(X_train, y_train['TotalGHGEmissions'])\n",
    "#end = time.time()\n",
    "\n",
    "#prediction = model_forest.predict(X_train)\n",
    "\n",
    "#results_train_r2= model_forest.score(X_train,y_train['TotalGHGEmissions'])\n",
    "#results_train_rmse = mean_squared_error(np.exp(prediction),np.exp(y_train['TotalGHGEmissions']), squared=False)\n",
    "\n",
    "#start_2 = time.time()\n",
    "#prediction = model_forest.predict(X_test)\n",
    "#end_2 = time.time()\n",
    "\n",
    "#prediction = model_forest.predict(X_test)\n",
    "\n",
    "#results_test_r2= model_forest.score(X_test,y_test['TotalGHGEmissions'])\n",
    "#results_test_rmse = mean_squared_error(np.exp(prediction),np.exp(y_test['TotalGHGEmissions']), squared=False)"
   ]
  },
  {
   "cell_type": "markdown",
   "id": "0304506b",
   "metadata": {},
   "source": [
    "Pour évaluer l'intérêt de la variable \"ENERGYSTARScore\" pour la prédiction d’émissions; on va entrainer notre algorithme sur deux datasets, la première contient la variable \"ENERGYSTARScore\" et la deuxième sans cette variable.Ensuite, on va comparer les performances de l'algorithme et en fonction de ces résultats, on pourra déduire son intérêt."
   ]
  },
  {
   "cell_type": "code",
   "execution_count": 72,
   "id": "2182daf9",
   "metadata": {},
   "outputs": [],
   "source": [
    "numeric_features = [ 'PropertyGFAParking','PropertyGFABuilding(s)','ZipCode', 'Age', 'ThirdLargestPropertyUseTypeGFA', 'SecondLargestPropertyUseTypeGFA', 'LargestPropertyUseTypeGFA' , 'NumberofFloors', 'NumberofBuildings', 'Latitude', 'Longitude','ENERGYSTARScore']\n",
    "categorical_features = [\"BuildingType\",\"PrimaryPropertyType\",'Neighborhood']\n",
    "numeric_features.remove('ENERGYSTARScore')"
   ]
  },
  {
   "cell_type": "code",
   "execution_count": 73,
   "id": "030e6797",
   "metadata": {},
   "outputs": [],
   "source": [
    "y = np.log(data[[\"SiteEnergyUse(kBtu)\", \"TotalGHGEmissions\"]])\n",
    "X = data.drop([\"SiteEnergyUse(kBtu)\", \"TotalGHGEmissions\", \"ENERGYSTARScore\"],axis=1)\n",
    "X_train_2, X_test_2, y_train_2, y_test_2 = train_test_split(X, y, test_size=0.2, random_state=0)"
   ]
  },
  {
   "cell_type": "code",
   "execution_count": 74,
   "id": "8cfa6946",
   "metadata": {},
   "outputs": [],
   "source": [
    "preprocessor = ColumnTransformer(\n",
    "    transformers=[\n",
    "        ('num', numeric_transformer, numeric_features),\n",
    "        ('cat', categorical_transformer, categorical_features)])\n"
   ]
  },
  {
   "cell_type": "code",
   "execution_count": 75,
   "id": "c6b56b99",
   "metadata": {},
   "outputs": [],
   "source": [
    "params = model_forest_ghg.get_params()"
   ]
  },
  {
   "cell_type": "code",
   "execution_count": 76,
   "id": "2af4b729",
   "metadata": {},
   "outputs": [],
   "source": [
    "model_forest_2  = Pipeline([('preprocessor',preprocessor),('Regressor', RandomForestRegressor( max_depth = research_ghg.best_params_['Regressor__max_depth'], min_samples_split = research_ghg.best_params_['Regressor__min_samples_split'], min_samples_leaf = research_ghg.best_params_['Regressor__min_samples_leaf'], max_features = research_ghg.best_params_['Regressor__max_features']))]) \n",
    "\n",
    "\n"
   ]
  },
  {
   "cell_type": "code",
   "execution_count": 77,
   "id": "613d8d3b",
   "metadata": {},
   "outputs": [],
   "source": [
    "\n",
    "result_cv_ghg_2 = cross_validate(model_forest_2, X = X_train_2, y = y_train_2[\"TotalGHGEmissions\"], scoring = scoring , return_train_score = True)\n",
    "\n",
    "\n",
    "model_forest_2=model_forest_2.fit(X_train_2, y_train_2[\"TotalGHGEmissions\"])\n",
    "\n",
    "\n",
    "results_test_r2_2 = model_forest_2.score(X_test_2, y_test_2[\"TotalGHGEmissions\"])\n",
    "results_test_rmse_2 = mean_squared_error(np.exp(model_forest_2.predict(X_test_2)), np.exp(y_test_2[\"TotalGHGEmissions\"]), squared=False)"
   ]
  },
  {
   "cell_type": "code",
   "execution_count": 78,
   "id": "03518b0d",
   "metadata": {},
   "outputs": [
    {
     "name": "stdout",
     "output_type": "stream",
     "text": [
      "Training r2 score: 0.9624367626542734\n",
      "Training r2 score sans ENERGYSTARScore : 0.961013206109784\n",
      "Training rmse score: 133.4581892222804\n",
      "Training rmse score sans ENERGYSTARScore: 202.35930571112831\n",
      "Testing r2 score:0.762929843933284\n",
      "Testing r2 score sans ENERGYSTARScore:0.7707536117822864\n",
      "Testing rmse score: 483.0504685422691\n",
      "Testing rmse score sans ENERGYSTARScore: 198.85024986532005\n"
     ]
    }
   ],
   "source": [
    "print(\"Training r2 score: {}\".format(result_cv_ghg['train_r2'].mean()))\n",
    "print(\"Training r2 score sans ENERGYSTARScore : {}\".format(result_cv_ghg_2['train_r2'].mean()))\n",
    "print(\"Training rmse score: {}\".format(result_cv_ghg['train_rmse'].mean()))\n",
    "print(\"Training rmse score sans ENERGYSTARScore: {}\".format(result_cv_ghg_2['train_rmse'].mean()))\n",
    "print(\"Testing r2 score:{}\".format(results_test_r2_ghg))\n",
    "print(\"Testing r2 score sans ENERGYSTARScore:{}\".format(results_test_r2_2))\n",
    "print(\"Testing rmse score: {}\".format(results_test_rmse_ghg))\n",
    "print(\"Testing rmse score sans ENERGYSTARScore: {}\".format(results_test_rmse_2))\n"
   ]
  },
  {
   "cell_type": "markdown",
   "id": "1767e21c",
   "metadata": {},
   "source": [
    "On remarque que les valeurs obtenues sans la variables ENERGYSTARScore sont proches et presque identiques  aux valeurs obtenues lorsque la variables ENERGYSTARScore est dans le dataset.\n",
    "On peut donc dire que la variable ENERGYSTARScore n'a pas trop d’intérêt  pour la prédiction d’émissions. On va faire une analyse aprofondie dans la partie suivante ( ça va montrer que c'est la cinquième/quatrième variable la plus importante pour le modèle"
   ]
  },
  {
   "cell_type": "markdown",
   "id": "447a4a2b",
   "metadata": {},
   "source": [
    "## Interprétation du model"
   ]
  },
  {
   "cell_type": "code",
   "execution_count": 79,
   "id": "b249a2e8",
   "metadata": {},
   "outputs": [
    {
     "data": {
      "text/html": [
       "<style>#sk-be2af7ea-ea0a-4be3-aac0-d314457d1e06 {color: black;background-color: white;}#sk-be2af7ea-ea0a-4be3-aac0-d314457d1e06 pre{padding: 0;}#sk-be2af7ea-ea0a-4be3-aac0-d314457d1e06 div.sk-toggleable {background-color: white;}#sk-be2af7ea-ea0a-4be3-aac0-d314457d1e06 label.sk-toggleable__label {cursor: pointer;display: block;width: 100%;margin-bottom: 0;padding: 0.2em 0.3em;box-sizing: border-box;text-align: center;}#sk-be2af7ea-ea0a-4be3-aac0-d314457d1e06 div.sk-toggleable__content {max-height: 0;max-width: 0;overflow: hidden;text-align: left;background-color: #f0f8ff;}#sk-be2af7ea-ea0a-4be3-aac0-d314457d1e06 div.sk-toggleable__content pre {margin: 0.2em;color: black;border-radius: 0.25em;background-color: #f0f8ff;}#sk-be2af7ea-ea0a-4be3-aac0-d314457d1e06 input.sk-toggleable__control:checked~div.sk-toggleable__content {max-height: 200px;max-width: 100%;overflow: auto;}#sk-be2af7ea-ea0a-4be3-aac0-d314457d1e06 div.sk-estimator input.sk-toggleable__control:checked~label.sk-toggleable__label {background-color: #d4ebff;}#sk-be2af7ea-ea0a-4be3-aac0-d314457d1e06 div.sk-label input.sk-toggleable__control:checked~label.sk-toggleable__label {background-color: #d4ebff;}#sk-be2af7ea-ea0a-4be3-aac0-d314457d1e06 input.sk-hidden--visually {border: 0;clip: rect(1px 1px 1px 1px);clip: rect(1px, 1px, 1px, 1px);height: 1px;margin: -1px;overflow: hidden;padding: 0;position: absolute;width: 1px;}#sk-be2af7ea-ea0a-4be3-aac0-d314457d1e06 div.sk-estimator {font-family: monospace;background-color: #f0f8ff;margin: 0.25em 0.25em;border: 1px dotted black;border-radius: 0.25em;box-sizing: border-box;}#sk-be2af7ea-ea0a-4be3-aac0-d314457d1e06 div.sk-estimator:hover {background-color: #d4ebff;}#sk-be2af7ea-ea0a-4be3-aac0-d314457d1e06 div.sk-parallel-item::after {content: \"\";width: 100%;border-bottom: 1px solid gray;flex-grow: 1;}#sk-be2af7ea-ea0a-4be3-aac0-d314457d1e06 div.sk-label:hover label.sk-toggleable__label {background-color: #d4ebff;}#sk-be2af7ea-ea0a-4be3-aac0-d314457d1e06 div.sk-serial::before {content: \"\";position: absolute;border-left: 1px solid gray;box-sizing: border-box;top: 2em;bottom: 0;left: 50%;}#sk-be2af7ea-ea0a-4be3-aac0-d314457d1e06 div.sk-serial {display: flex;flex-direction: column;align-items: center;background-color: white;}#sk-be2af7ea-ea0a-4be3-aac0-d314457d1e06 div.sk-item {z-index: 1;}#sk-be2af7ea-ea0a-4be3-aac0-d314457d1e06 div.sk-parallel {display: flex;align-items: stretch;justify-content: center;background-color: white;}#sk-be2af7ea-ea0a-4be3-aac0-d314457d1e06 div.sk-parallel-item {display: flex;flex-direction: column;position: relative;background-color: white;}#sk-be2af7ea-ea0a-4be3-aac0-d314457d1e06 div.sk-parallel-item:first-child::after {align-self: flex-end;width: 50%;}#sk-be2af7ea-ea0a-4be3-aac0-d314457d1e06 div.sk-parallel-item:last-child::after {align-self: flex-start;width: 50%;}#sk-be2af7ea-ea0a-4be3-aac0-d314457d1e06 div.sk-parallel-item:only-child::after {width: 0;}#sk-be2af7ea-ea0a-4be3-aac0-d314457d1e06 div.sk-dashed-wrapped {border: 1px dashed gray;margin: 0.2em;box-sizing: border-box;padding-bottom: 0.1em;background-color: white;position: relative;}#sk-be2af7ea-ea0a-4be3-aac0-d314457d1e06 div.sk-label label {font-family: monospace;font-weight: bold;background-color: white;display: inline-block;line-height: 1.2em;}#sk-be2af7ea-ea0a-4be3-aac0-d314457d1e06 div.sk-label-container {position: relative;z-index: 2;text-align: center;}#sk-be2af7ea-ea0a-4be3-aac0-d314457d1e06 div.sk-container {display: inline-block;position: relative;}</style><div id=\"sk-be2af7ea-ea0a-4be3-aac0-d314457d1e06\" class\"sk-top-container\"><div class=\"sk-container\"><div class=\"sk-item sk-dashed-wrapped\"><div class=\"sk-label-container\"><div class=\"sk-label sk-toggleable\"><input class=\"sk-toggleable__control sk-hidden--visually\" id=\"bcd335af-bb6a-4117-a56d-af4e61ef06da\" type=\"checkbox\" ><label class=\"sk-toggleable__label\" for=\"bcd335af-bb6a-4117-a56d-af4e61ef06da\">ColumnTransformer</label><div class=\"sk-toggleable__content\"><pre>ColumnTransformer(transformers=[('num',\n",
       "                                 Pipeline(steps=[('imputer', SimpleImputer()),\n",
       "                                                 ('scaler', StandardScaler())]),\n",
       "                                 ['PropertyGFAParking',\n",
       "                                  'PropertyGFABuilding(s)', 'ZipCode', 'Age',\n",
       "                                  'ThirdLargestPropertyUseTypeGFA',\n",
       "                                  'SecondLargestPropertyUseTypeGFA',\n",
       "                                  'LargestPropertyUseTypeGFA', 'NumberofFloors',\n",
       "                                  'NumberofBuildings', 'Latitude',\n",
       "                                  'Longitude']),\n",
       "                                ('cat', OneHotEncoder(handle_unknown='ignore'),\n",
       "                                 ['BuildingType', 'PrimaryPropertyType',\n",
       "                                  'Neighborhood'])])</pre></div></div></div><div class=\"sk-parallel\"><div class=\"sk-parallel-item\"><div class=\"sk-item\"><div class=\"sk-label-container\"><div class=\"sk-label sk-toggleable\"><input class=\"sk-toggleable__control sk-hidden--visually\" id=\"104ff637-d385-42c8-8e1d-08ad015cefd4\" type=\"checkbox\" ><label class=\"sk-toggleable__label\" for=\"104ff637-d385-42c8-8e1d-08ad015cefd4\">num</label><div class=\"sk-toggleable__content\"><pre>['PropertyGFAParking', 'PropertyGFABuilding(s)', 'ZipCode', 'Age', 'ThirdLargestPropertyUseTypeGFA', 'SecondLargestPropertyUseTypeGFA', 'LargestPropertyUseTypeGFA', 'NumberofFloors', 'NumberofBuildings', 'Latitude', 'Longitude']</pre></div></div></div><div class=\"sk-serial\"><div class=\"sk-item\"><div class=\"sk-serial\"><div class=\"sk-item\"><div class=\"sk-estimator sk-toggleable\"><input class=\"sk-toggleable__control sk-hidden--visually\" id=\"14bae738-1a9a-466f-ab90-73791c7ffa47\" type=\"checkbox\" ><label class=\"sk-toggleable__label\" for=\"14bae738-1a9a-466f-ab90-73791c7ffa47\">SimpleImputer</label><div class=\"sk-toggleable__content\"><pre>SimpleImputer()</pre></div></div></div><div class=\"sk-item\"><div class=\"sk-estimator sk-toggleable\"><input class=\"sk-toggleable__control sk-hidden--visually\" id=\"e6a35c58-be5e-473c-bb43-e5d6e4eb07f9\" type=\"checkbox\" ><label class=\"sk-toggleable__label\" for=\"e6a35c58-be5e-473c-bb43-e5d6e4eb07f9\">StandardScaler</label><div class=\"sk-toggleable__content\"><pre>StandardScaler()</pre></div></div></div></div></div></div></div></div><div class=\"sk-parallel-item\"><div class=\"sk-item\"><div class=\"sk-label-container\"><div class=\"sk-label sk-toggleable\"><input class=\"sk-toggleable__control sk-hidden--visually\" id=\"922fe652-187c-486c-befa-5dc2b2ca0daf\" type=\"checkbox\" ><label class=\"sk-toggleable__label\" for=\"922fe652-187c-486c-befa-5dc2b2ca0daf\">cat</label><div class=\"sk-toggleable__content\"><pre>['BuildingType', 'PrimaryPropertyType', 'Neighborhood']</pre></div></div></div><div class=\"sk-serial\"><div class=\"sk-item\"><div class=\"sk-estimator sk-toggleable\"><input class=\"sk-toggleable__control sk-hidden--visually\" id=\"671fad50-a4a5-477d-8013-30e394758422\" type=\"checkbox\" ><label class=\"sk-toggleable__label\" for=\"671fad50-a4a5-477d-8013-30e394758422\">OneHotEncoder</label><div class=\"sk-toggleable__content\"><pre>OneHotEncoder(handle_unknown='ignore')</pre></div></div></div></div></div></div></div></div></div></div>"
      ],
      "text/plain": [
       "ColumnTransformer(transformers=[('num',\n",
       "                                 Pipeline(steps=[('imputer', SimpleImputer()),\n",
       "                                                 ('scaler', StandardScaler())]),\n",
       "                                 ['PropertyGFAParking',\n",
       "                                  'PropertyGFABuilding(s)', 'ZipCode', 'Age',\n",
       "                                  'ThirdLargestPropertyUseTypeGFA',\n",
       "                                  'SecondLargestPropertyUseTypeGFA',\n",
       "                                  'LargestPropertyUseTypeGFA', 'NumberofFloors',\n",
       "                                  'NumberofBuildings', 'Latitude',\n",
       "                                  'Longitude']),\n",
       "                                ('cat', OneHotEncoder(handle_unknown='ignore'),\n",
       "                                 ['BuildingType', 'PrimaryPropertyType',\n",
       "                                  'Neighborhood'])])"
      ]
     },
     "execution_count": 79,
     "metadata": {},
     "output_type": "execute_result"
    }
   ],
   "source": [
    "preprocessor.fit(X_train)\n",
    "X = preprocessor.transform(X_test)"
   ]
  },
  {
   "cell_type": "code",
   "execution_count": 80,
   "id": "c468fd98",
   "metadata": {},
   "outputs": [
    {
     "name": "stdout",
     "output_type": "stream",
     "text": [
      "<class 'pandas.core.frame.DataFrame'>\n",
      "Int64Index: 1307 entries, 940 to 2489\n",
      "Data columns (total 15 columns):\n",
      " #   Column                           Non-Null Count  Dtype  \n",
      "---  ------                           --------------  -----  \n",
      " 0   BuildingType                     1307 non-null   object \n",
      " 1   PrimaryPropertyType              1307 non-null   object \n",
      " 2   ZipCode                          1304 non-null   float64\n",
      " 3   Neighborhood                     1307 non-null   object \n",
      " 4   Latitude                         1307 non-null   float64\n",
      " 5   Longitude                        1307 non-null   float64\n",
      " 6   NumberofBuildings                1307 non-null   float64\n",
      " 7   NumberofFloors                   1306 non-null   float64\n",
      " 8   PropertyGFAParking               1307 non-null   int64  \n",
      " 9   PropertyGFABuilding(s)           1307 non-null   int64  \n",
      " 10  LargestPropertyUseTypeGFA        1273 non-null   float64\n",
      " 11  SecondLargestPropertyUseTypeGFA  641 non-null    float64\n",
      " 12  ThirdLargestPropertyUseTypeGFA   223 non-null    float64\n",
      " 13  ENERGYSTARScore                  1027 non-null   float64\n",
      " 14  Age                              1307 non-null   int64  \n",
      "dtypes: float64(9), int64(3), object(3)\n",
      "memory usage: 163.4+ KB\n"
     ]
    }
   ],
   "source": [
    "X_test.info()"
   ]
  },
  {
   "cell_type": "code",
   "execution_count": 81,
   "id": "a9f2f97f",
   "metadata": {},
   "outputs": [
    {
     "data": {
      "text/plain": [
       "64"
      ]
     },
     "execution_count": 81,
     "metadata": {},
     "output_type": "execute_result"
    }
   ],
   "source": [
    "len(all_features)"
   ]
  },
  {
   "cell_type": "markdown",
   "id": "1c1cba0d",
   "metadata": {},
   "source": [
    "Dans cette partie, on va expliquer un peu comment notre modèle opére. Pour ça, on va utiliser la technique de Permutation Importance; cette technique mesure l'importance des variables pour notre modèle. Elle fonctionne suivant le process :\n",
    "   1. entreiner le modèle.\n",
    "   2. Mélangez les valeurs dans une seule colonne, faites des prédictions à l'aide de l'ensemble de données résultant.            Utilisez ces prédictions et les vraies valeurs cibles pour calculer combien la fonction de perte a souffert de la            permutation. Cette détérioration des performances mesure l'importance de la variable que vous venez de mélanger.\n",
    "   3. Remettez les données dans l'ordre d'origine (annulez la lecture aléatoire de l'étape 2). Répétez maintenant l'étape 2        avec la colonne suivante de l'ensemble de données, jusqu'à ce qu'on aura calculer l'importance de chaque colonne. "
   ]
  },
  {
   "cell_type": "code",
   "execution_count": 82,
   "id": "20a80834",
   "metadata": {},
   "outputs": [
    {
     "name": "stdout",
     "output_type": "stream",
     "text": [
      "<class 'pandas.core.frame.DataFrame'>\n",
      "Int64Index: 5225 entries, 1633 to 233\n",
      "Data columns (total 15 columns):\n",
      " #   Column                           Non-Null Count  Dtype  \n",
      "---  ------                           --------------  -----  \n",
      " 0   BuildingType                     5225 non-null   object \n",
      " 1   PrimaryPropertyType              5225 non-null   object \n",
      " 2   ZipCode                          5215 non-null   float64\n",
      " 3   Neighborhood                     5225 non-null   object \n",
      " 4   Latitude                         5225 non-null   float64\n",
      " 5   Longitude                        5225 non-null   float64\n",
      " 6   NumberofBuildings                5225 non-null   float64\n",
      " 7   NumberofFloors                   5218 non-null   float64\n",
      " 8   PropertyGFAParking               5225 non-null   int64  \n",
      " 9   PropertyGFABuilding(s)           5225 non-null   int64  \n",
      " 10  LargestPropertyUseTypeGFA        5115 non-null   float64\n",
      " 11  SecondLargestPropertyUseTypeGFA  2561 non-null   float64\n",
      " 12  ThirdLargestPropertyUseTypeGFA   917 non-null    float64\n",
      " 13  ENERGYSTARScore                  3929 non-null   float64\n",
      " 14  Age                              5225 non-null   int64  \n",
      "dtypes: float64(9), int64(3), object(3)\n",
      "memory usage: 653.1+ KB\n"
     ]
    }
   ],
   "source": [
    "X_train.info()"
   ]
  },
  {
   "cell_type": "code",
   "execution_count": 85,
   "id": "b110521d",
   "metadata": {},
   "outputs": [
    {
     "data": {
      "text/html": [
       "\n",
       "    <style>\n",
       "    table.eli5-weights tr:hover {\n",
       "        filter: brightness(85%);\n",
       "    }\n",
       "</style>\n",
       "\n",
       "\n",
       "\n",
       "    \n",
       "\n",
       "    \n",
       "\n",
       "    \n",
       "\n",
       "    \n",
       "\n",
       "    \n",
       "\n",
       "    \n",
       "\n",
       "\n",
       "    \n",
       "\n",
       "    \n",
       "\n",
       "    \n",
       "\n",
       "    \n",
       "\n",
       "    \n",
       "\n",
       "    \n",
       "\n",
       "\n",
       "    \n",
       "\n",
       "    \n",
       "\n",
       "    \n",
       "\n",
       "    \n",
       "\n",
       "    \n",
       "        <table class=\"eli5-weights eli5-feature-importances\" style=\"border-collapse: collapse; border: none; margin-top: 0em; table-layout: auto;\">\n",
       "    <thead>\n",
       "    <tr style=\"border: none;\">\n",
       "        <th style=\"padding: 0 1em 0 0.5em; text-align: right; border: none;\">Weight</th>\n",
       "        <th style=\"padding: 0 0.5em 0 0.5em; text-align: left; border: none;\">Feature</th>\n",
       "    </tr>\n",
       "    </thead>\n",
       "    <tbody>\n",
       "    \n",
       "        <tr style=\"background-color: hsl(120, 100.00%, 80.00%); border: none;\">\n",
       "            <td style=\"padding: 0 1em 0 0.5em; text-align: right; border: none;\">\n",
       "                0.2514\n",
       "                \n",
       "                    &plusmn; 0.0187\n",
       "                \n",
       "            </td>\n",
       "            <td style=\"padding: 0 0.5em 0 0.5em; text-align: left; border: none;\">\n",
       "                PropertyGFABuilding(s)\n",
       "            </td>\n",
       "        </tr>\n",
       "    \n",
       "        <tr style=\"background-color: hsl(120, 100.00%, 85.11%); border: none;\">\n",
       "            <td style=\"padding: 0 1em 0 0.5em; text-align: right; border: none;\">\n",
       "                0.1649\n",
       "                \n",
       "                    &plusmn; 0.0121\n",
       "                \n",
       "            </td>\n",
       "            <td style=\"padding: 0 0.5em 0 0.5em; text-align: left; border: none;\">\n",
       "                LargestPropertyUseTypeGFA\n",
       "            </td>\n",
       "        </tr>\n",
       "    \n",
       "        <tr style=\"background-color: hsl(120, 100.00%, 92.06%); border: none;\">\n",
       "            <td style=\"padding: 0 1em 0 0.5em; text-align: right; border: none;\">\n",
       "                0.0672\n",
       "                \n",
       "                    &plusmn; 0.0071\n",
       "                \n",
       "            </td>\n",
       "            <td style=\"padding: 0 0.5em 0 0.5em; text-align: left; border: none;\">\n",
       "                ENERGYSTARScore\n",
       "            </td>\n",
       "        </tr>\n",
       "    \n",
       "        <tr style=\"background-color: hsl(120, 100.00%, 94.39%); border: none;\">\n",
       "            <td style=\"padding: 0 1em 0 0.5em; text-align: right; border: none;\">\n",
       "                0.0409\n",
       "                \n",
       "                    &plusmn; 0.0099\n",
       "                \n",
       "            </td>\n",
       "            <td style=\"padding: 0 0.5em 0 0.5em; text-align: left; border: none;\">\n",
       "                PrimaryPropertyType__Low-Rise Multifamily\n",
       "            </td>\n",
       "        </tr>\n",
       "    \n",
       "        <tr style=\"background-color: hsl(120, 100.00%, 95.21%); border: none;\">\n",
       "            <td style=\"padding: 0 1em 0 0.5em; text-align: right; border: none;\">\n",
       "                0.0326\n",
       "                \n",
       "                    &plusmn; 0.0054\n",
       "                \n",
       "            </td>\n",
       "            <td style=\"padding: 0 0.5em 0 0.5em; text-align: left; border: none;\">\n",
       "                SecondLargestPropertyUseTypeGFA\n",
       "            </td>\n",
       "        </tr>\n",
       "    \n",
       "        <tr style=\"background-color: hsl(120, 100.00%, 95.86%); border: none;\">\n",
       "            <td style=\"padding: 0 1em 0 0.5em; text-align: right; border: none;\">\n",
       "                0.0265\n",
       "                \n",
       "                    &plusmn; 0.0029\n",
       "                \n",
       "            </td>\n",
       "            <td style=\"padding: 0 0.5em 0 0.5em; text-align: left; border: none;\">\n",
       "                Age\n",
       "            </td>\n",
       "        </tr>\n",
       "    \n",
       "        <tr style=\"background-color: hsl(120, 100.00%, 95.93%); border: none;\">\n",
       "            <td style=\"padding: 0 1em 0 0.5em; text-align: right; border: none;\">\n",
       "                0.0259\n",
       "                \n",
       "                    &plusmn; 0.0069\n",
       "                \n",
       "            </td>\n",
       "            <td style=\"padding: 0 0.5em 0 0.5em; text-align: left; border: none;\">\n",
       "                PropertyGFAParking\n",
       "            </td>\n",
       "        </tr>\n",
       "    \n",
       "        <tr style=\"background-color: hsl(120, 100.00%, 96.34%); border: none;\">\n",
       "            <td style=\"padding: 0 1em 0 0.5em; text-align: right; border: none;\">\n",
       "                0.0222\n",
       "                \n",
       "                    &plusmn; 0.0049\n",
       "                \n",
       "            </td>\n",
       "            <td style=\"padding: 0 0.5em 0 0.5em; text-align: left; border: none;\">\n",
       "                BuildingType__NonResidential\n",
       "            </td>\n",
       "        </tr>\n",
       "    \n",
       "        <tr style=\"background-color: hsl(120, 100.00%, 96.45%); border: none;\">\n",
       "            <td style=\"padding: 0 1em 0 0.5em; text-align: right; border: none;\">\n",
       "                0.0213\n",
       "                \n",
       "                    &plusmn; 0.0018\n",
       "                \n",
       "            </td>\n",
       "            <td style=\"padding: 0 0.5em 0 0.5em; text-align: left; border: none;\">\n",
       "                NumberofFloors\n",
       "            </td>\n",
       "        </tr>\n",
       "    \n",
       "        <tr style=\"background-color: hsl(120, 100.00%, 96.90%); border: none;\">\n",
       "            <td style=\"padding: 0 1em 0 0.5em; text-align: right; border: none;\">\n",
       "                0.0175\n",
       "                \n",
       "                    &plusmn; 0.0053\n",
       "                \n",
       "            </td>\n",
       "            <td style=\"padding: 0 0.5em 0 0.5em; text-align: left; border: none;\">\n",
       "                BuildingType__Multifamily LR (1-4)\n",
       "            </td>\n",
       "        </tr>\n",
       "    \n",
       "        <tr style=\"background-color: hsl(120, 100.00%, 96.91%); border: none;\">\n",
       "            <td style=\"padding: 0 1em 0 0.5em; text-align: right; border: none;\">\n",
       "                0.0174\n",
       "                \n",
       "                    &plusmn; 0.0041\n",
       "                \n",
       "            </td>\n",
       "            <td style=\"padding: 0 0.5em 0 0.5em; text-align: left; border: none;\">\n",
       "                Latitude\n",
       "            </td>\n",
       "        </tr>\n",
       "    \n",
       "        <tr style=\"background-color: hsl(120, 100.00%, 97.42%); border: none;\">\n",
       "            <td style=\"padding: 0 1em 0 0.5em; text-align: right; border: none;\">\n",
       "                0.0135\n",
       "                \n",
       "                    &plusmn; 0.0032\n",
       "                \n",
       "            </td>\n",
       "            <td style=\"padding: 0 0.5em 0 0.5em; text-align: left; border: none;\">\n",
       "                PrimaryPropertyType__Other\n",
       "            </td>\n",
       "        </tr>\n",
       "    \n",
       "        <tr style=\"background-color: hsl(120, 100.00%, 97.48%); border: none;\">\n",
       "            <td style=\"padding: 0 1em 0 0.5em; text-align: right; border: none;\">\n",
       "                0.0131\n",
       "                \n",
       "                    &plusmn; 0.0014\n",
       "                \n",
       "            </td>\n",
       "            <td style=\"padding: 0 0.5em 0 0.5em; text-align: left; border: none;\">\n",
       "                Longitude\n",
       "            </td>\n",
       "        </tr>\n",
       "    \n",
       "        <tr style=\"background-color: hsl(120, 100.00%, 97.92%); border: none;\">\n",
       "            <td style=\"padding: 0 1em 0 0.5em; text-align: right; border: none;\">\n",
       "                0.0099\n",
       "                \n",
       "                    &plusmn; 0.0008\n",
       "                \n",
       "            </td>\n",
       "            <td style=\"padding: 0 0.5em 0 0.5em; text-align: left; border: none;\">\n",
       "                ThirdLargestPropertyUseTypeGFA\n",
       "            </td>\n",
       "        </tr>\n",
       "    \n",
       "        <tr style=\"background-color: hsl(120, 100.00%, 98.14%); border: none;\">\n",
       "            <td style=\"padding: 0 1em 0 0.5em; text-align: right; border: none;\">\n",
       "                0.0085\n",
       "                \n",
       "                    &plusmn; 0.0073\n",
       "                \n",
       "            </td>\n",
       "            <td style=\"padding: 0 0.5em 0 0.5em; text-align: left; border: none;\">\n",
       "                PrimaryPropertyType__Large Office\n",
       "            </td>\n",
       "        </tr>\n",
       "    \n",
       "        <tr style=\"background-color: hsl(120, 100.00%, 98.43%); border: none;\">\n",
       "            <td style=\"padding: 0 1em 0 0.5em; text-align: right; border: none;\">\n",
       "                0.0066\n",
       "                \n",
       "                    &plusmn; 0.0011\n",
       "                \n",
       "            </td>\n",
       "            <td style=\"padding: 0 0.5em 0 0.5em; text-align: left; border: none;\">\n",
       "                Neighborhood__downtown\n",
       "            </td>\n",
       "        </tr>\n",
       "    \n",
       "        <tr style=\"background-color: hsl(120, 100.00%, 98.49%); border: none;\">\n",
       "            <td style=\"padding: 0 1em 0 0.5em; text-align: right; border: none;\">\n",
       "                0.0063\n",
       "                \n",
       "                    &plusmn; 0.0014\n",
       "                \n",
       "            </td>\n",
       "            <td style=\"padding: 0 0.5em 0 0.5em; text-align: left; border: none;\">\n",
       "                PrimaryPropertyType__Supermarket / Grocery Store\n",
       "            </td>\n",
       "        </tr>\n",
       "    \n",
       "        <tr style=\"background-color: hsl(120, 100.00%, 98.65%); border: none;\">\n",
       "            <td style=\"padding: 0 1em 0 0.5em; text-align: right; border: none;\">\n",
       "                0.0053\n",
       "                \n",
       "                    &plusmn; 0.0007\n",
       "                \n",
       "            </td>\n",
       "            <td style=\"padding: 0 0.5em 0 0.5em; text-align: left; border: none;\">\n",
       "                PrimaryPropertyType__Non-Refrigerated Warehouse\n",
       "            </td>\n",
       "        </tr>\n",
       "    \n",
       "        <tr style=\"background-color: hsl(120, 100.00%, 98.68%); border: none;\">\n",
       "            <td style=\"padding: 0 1em 0 0.5em; text-align: right; border: none;\">\n",
       "                0.0052\n",
       "                \n",
       "                    &plusmn; 0.0008\n",
       "                \n",
       "            </td>\n",
       "            <td style=\"padding: 0 0.5em 0 0.5em; text-align: left; border: none;\">\n",
       "                BuildingType__Multifamily MR (5-9)\n",
       "            </td>\n",
       "        </tr>\n",
       "    \n",
       "        <tr style=\"background-color: hsl(120, 100.00%, 98.69%); border: none;\">\n",
       "            <td style=\"padding: 0 1em 0 0.5em; text-align: right; border: none;\">\n",
       "                0.0051\n",
       "                \n",
       "                    &plusmn; 0.0010\n",
       "                \n",
       "            </td>\n",
       "            <td style=\"padding: 0 0.5em 0 0.5em; text-align: left; border: none;\">\n",
       "                Neighborhood__greater duwamish\n",
       "            </td>\n",
       "        </tr>\n",
       "    \n",
       "    \n",
       "        \n",
       "            <tr style=\"background-color: hsl(120, 100.00%, 98.69%); border: none;\">\n",
       "                <td colspan=\"2\" style=\"padding: 0 0.5em 0 0.5em; text-align: center; border: none; white-space: nowrap;\">\n",
       "                    <i>&hellip; 44 more &hellip;</i>\n",
       "                </td>\n",
       "            </tr>\n",
       "        \n",
       "    \n",
       "    </tbody>\n",
       "</table>\n",
       "    \n",
       "\n",
       "    \n",
       "\n",
       "\n",
       "    \n",
       "\n",
       "    \n",
       "\n",
       "    \n",
       "\n",
       "    \n",
       "\n",
       "    \n",
       "\n",
       "    \n",
       "\n",
       "\n",
       "\n"
      ],
      "text/plain": [
       "<IPython.core.display.HTML object>"
      ]
     },
     "execution_count": 85,
     "metadata": {},
     "output_type": "execute_result"
    }
   ],
   "source": [
    "from eli5.sklearn import PermutationImportance\n",
    "\n",
    "perm = PermutationImportance(model_forest_energy[\"Regressor\"], random_state=1).fit(model_forest_energy[\"preprocessor\"].transform(X_test).toarray(), y_test[\"SiteEnergyUse(kBtu)\"])\n",
    "eli5.show_weights(perm, feature_names = all_features)"
   ]
  },
  {
   "cell_type": "markdown",
   "id": "b0c687ae",
   "metadata": {},
   "source": [
    "Pour interpréter les résultats au-dessus, il faut savoir que les features au top du tableau sont les plus importantes et que l'importance des variables décroit en allant vers le bas.\n",
    "\n",
    "On remarque que la variable 'PropertyGFATotal' est la variable la plus importante pour notre modéle, la deuxième du classement est la variable 'Age' qui reflète le nombre d'années aprés la construction de la maison...."
   ]
  },
  {
   "cell_type": "code",
   "execution_count": 86,
   "id": "774160f9",
   "metadata": {},
   "outputs": [
    {
     "data": {
      "text/html": [
       "\n",
       "    <style>\n",
       "    table.eli5-weights tr:hover {\n",
       "        filter: brightness(85%);\n",
       "    }\n",
       "</style>\n",
       "\n",
       "\n",
       "\n",
       "    \n",
       "\n",
       "    \n",
       "\n",
       "    \n",
       "\n",
       "    \n",
       "\n",
       "    \n",
       "\n",
       "    \n",
       "\n",
       "\n",
       "    \n",
       "\n",
       "    \n",
       "\n",
       "    \n",
       "\n",
       "    \n",
       "\n",
       "    \n",
       "\n",
       "    \n",
       "\n",
       "\n",
       "    \n",
       "\n",
       "    \n",
       "\n",
       "    \n",
       "\n",
       "    \n",
       "\n",
       "    \n",
       "        <table class=\"eli5-weights eli5-feature-importances\" style=\"border-collapse: collapse; border: none; margin-top: 0em; table-layout: auto;\">\n",
       "    <thead>\n",
       "    <tr style=\"border: none;\">\n",
       "        <th style=\"padding: 0 1em 0 0.5em; text-align: right; border: none;\">Weight</th>\n",
       "        <th style=\"padding: 0 0.5em 0 0.5em; text-align: left; border: none;\">Feature</th>\n",
       "    </tr>\n",
       "    </thead>\n",
       "    <tbody>\n",
       "    \n",
       "        <tr style=\"background-color: hsl(120, 100.00%, 80.00%); border: none;\">\n",
       "            <td style=\"padding: 0 1em 0 0.5em; text-align: right; border: none;\">\n",
       "                0.5873\n",
       "                \n",
       "                    &plusmn; 0.0546\n",
       "                \n",
       "            </td>\n",
       "            <td style=\"padding: 0 0.5em 0 0.5em; text-align: left; border: none;\">\n",
       "                PropertyGFABuilding(s)\n",
       "            </td>\n",
       "        </tr>\n",
       "    \n",
       "        <tr style=\"background-color: hsl(120, 100.00%, 91.23%); border: none;\">\n",
       "            <td style=\"padding: 0 1em 0 0.5em; text-align: right; border: none;\">\n",
       "                0.1809\n",
       "                \n",
       "                    &plusmn; 0.0317\n",
       "                \n",
       "            </td>\n",
       "            <td style=\"padding: 0 0.5em 0 0.5em; text-align: left; border: none;\">\n",
       "                PrimaryPropertyType__Low-Rise Multifamily\n",
       "            </td>\n",
       "        </tr>\n",
       "    \n",
       "        <tr style=\"background-color: hsl(120, 100.00%, 91.45%); border: none;\">\n",
       "            <td style=\"padding: 0 1em 0 0.5em; text-align: right; border: none;\">\n",
       "                0.1745\n",
       "                \n",
       "                    &plusmn; 0.0221\n",
       "                \n",
       "            </td>\n",
       "            <td style=\"padding: 0 0.5em 0 0.5em; text-align: left; border: none;\">\n",
       "                Age\n",
       "            </td>\n",
       "        </tr>\n",
       "    \n",
       "        <tr style=\"background-color: hsl(120, 100.00%, 93.86%); border: none;\">\n",
       "            <td style=\"padding: 0 1em 0 0.5em; text-align: right; border: none;\">\n",
       "                0.1087\n",
       "                \n",
       "                    &plusmn; 0.0161\n",
       "                \n",
       "            </td>\n",
       "            <td style=\"padding: 0 0.5em 0 0.5em; text-align: left; border: none;\">\n",
       "                ENERGYSTARScore\n",
       "            </td>\n",
       "        </tr>\n",
       "    \n",
       "        <tr style=\"background-color: hsl(120, 100.00%, 94.22%); border: none;\">\n",
       "            <td style=\"padding: 0 1em 0 0.5em; text-align: right; border: none;\">\n",
       "                0.0996\n",
       "                \n",
       "                    &plusmn; 0.0070\n",
       "                \n",
       "            </td>\n",
       "            <td style=\"padding: 0 0.5em 0 0.5em; text-align: left; border: none;\">\n",
       "                LargestPropertyUseTypeGFA\n",
       "            </td>\n",
       "        </tr>\n",
       "    \n",
       "        <tr style=\"background-color: hsl(120, 100.00%, 96.97%); border: none;\">\n",
       "            <td style=\"padding: 0 1em 0 0.5em; text-align: right; border: none;\">\n",
       "                0.0397\n",
       "                \n",
       "                    &plusmn; 0.0045\n",
       "                \n",
       "            </td>\n",
       "            <td style=\"padding: 0 0.5em 0 0.5em; text-align: left; border: none;\">\n",
       "                Latitude\n",
       "            </td>\n",
       "        </tr>\n",
       "    \n",
       "        <tr style=\"background-color: hsl(120, 100.00%, 97.32%); border: none;\">\n",
       "            <td style=\"padding: 0 1em 0 0.5em; text-align: right; border: none;\">\n",
       "                0.0332\n",
       "                \n",
       "                    &plusmn; 0.0032\n",
       "                \n",
       "            </td>\n",
       "            <td style=\"padding: 0 0.5em 0 0.5em; text-align: left; border: none;\">\n",
       "                Longitude\n",
       "            </td>\n",
       "        </tr>\n",
       "    \n",
       "        <tr style=\"background-color: hsl(120, 100.00%, 97.82%); border: none;\">\n",
       "            <td style=\"padding: 0 1em 0 0.5em; text-align: right; border: none;\">\n",
       "                0.0247\n",
       "                \n",
       "                    &plusmn; 0.0055\n",
       "                \n",
       "            </td>\n",
       "            <td style=\"padding: 0 0.5em 0 0.5em; text-align: left; border: none;\">\n",
       "                NumberofFloors\n",
       "            </td>\n",
       "        </tr>\n",
       "    \n",
       "        <tr style=\"background-color: hsl(120, 100.00%, 98.24%); border: none;\">\n",
       "            <td style=\"padding: 0 1em 0 0.5em; text-align: right; border: none;\">\n",
       "                0.0182\n",
       "                \n",
       "                    &plusmn; 0.0020\n",
       "                \n",
       "            </td>\n",
       "            <td style=\"padding: 0 0.5em 0 0.5em; text-align: left; border: none;\">\n",
       "                SecondLargestPropertyUseTypeGFA\n",
       "            </td>\n",
       "        </tr>\n",
       "    \n",
       "        <tr style=\"background-color: hsl(120, 100.00%, 98.35%); border: none;\">\n",
       "            <td style=\"padding: 0 1em 0 0.5em; text-align: right; border: none;\">\n",
       "                0.0166\n",
       "                \n",
       "                    &plusmn; 0.0048\n",
       "                \n",
       "            </td>\n",
       "            <td style=\"padding: 0 0.5em 0 0.5em; text-align: left; border: none;\">\n",
       "                PrimaryPropertyType__Mid-Rise Multifamily\n",
       "            </td>\n",
       "        </tr>\n",
       "    \n",
       "        <tr style=\"background-color: hsl(120, 100.00%, 98.61%); border: none;\">\n",
       "            <td style=\"padding: 0 1em 0 0.5em; text-align: right; border: none;\">\n",
       "                0.0131\n",
       "                \n",
       "                    &plusmn; 0.0030\n",
       "                \n",
       "            </td>\n",
       "            <td style=\"padding: 0 0.5em 0 0.5em; text-align: left; border: none;\">\n",
       "                PrimaryPropertyType__Other\n",
       "            </td>\n",
       "        </tr>\n",
       "    \n",
       "        <tr style=\"background-color: hsl(120, 100.00%, 98.69%); border: none;\">\n",
       "            <td style=\"padding: 0 1em 0 0.5em; text-align: right; border: none;\">\n",
       "                0.0119\n",
       "                \n",
       "                    &plusmn; 0.0030\n",
       "                \n",
       "            </td>\n",
       "            <td style=\"padding: 0 0.5em 0 0.5em; text-align: left; border: none;\">\n",
       "                BuildingType__NonResidential\n",
       "            </td>\n",
       "        </tr>\n",
       "    \n",
       "        <tr style=\"background-color: hsl(120, 100.00%, 98.71%); border: none;\">\n",
       "            <td style=\"padding: 0 1em 0 0.5em; text-align: right; border: none;\">\n",
       "                0.0118\n",
       "                \n",
       "                    &plusmn; 0.0045\n",
       "                \n",
       "            </td>\n",
       "            <td style=\"padding: 0 0.5em 0 0.5em; text-align: left; border: none;\">\n",
       "                PrimaryPropertyType__Hotel\n",
       "            </td>\n",
       "        </tr>\n",
       "    \n",
       "        <tr style=\"background-color: hsl(120, 100.00%, 99.02%); border: none;\">\n",
       "            <td style=\"padding: 0 1em 0 0.5em; text-align: right; border: none;\">\n",
       "                0.0079\n",
       "                \n",
       "                    &plusmn; 0.0020\n",
       "                \n",
       "            </td>\n",
       "            <td style=\"padding: 0 0.5em 0 0.5em; text-align: left; border: none;\">\n",
       "                ThirdLargestPropertyUseTypeGFA\n",
       "            </td>\n",
       "        </tr>\n",
       "    \n",
       "        <tr style=\"background-color: hsl(120, 100.00%, 99.18%); border: none;\">\n",
       "            <td style=\"padding: 0 1em 0 0.5em; text-align: right; border: none;\">\n",
       "                0.0061\n",
       "                \n",
       "                    &plusmn; 0.0007\n",
       "                \n",
       "            </td>\n",
       "            <td style=\"padding: 0 0.5em 0 0.5em; text-align: left; border: none;\">\n",
       "                Neighborhood__greater duwamish\n",
       "            </td>\n",
       "        </tr>\n",
       "    \n",
       "        <tr style=\"background-color: hsl(120, 100.00%, 99.21%); border: none;\">\n",
       "            <td style=\"padding: 0 1em 0 0.5em; text-align: right; border: none;\">\n",
       "                0.0059\n",
       "                \n",
       "                    &plusmn; 0.0013\n",
       "                \n",
       "            </td>\n",
       "            <td style=\"padding: 0 0.5em 0 0.5em; text-align: left; border: none;\">\n",
       "                PrimaryPropertyType__Supermarket / Grocery Store\n",
       "            </td>\n",
       "        </tr>\n",
       "    \n",
       "        <tr style=\"background-color: hsl(120, 100.00%, 99.28%); border: none;\">\n",
       "            <td style=\"padding: 0 1em 0 0.5em; text-align: right; border: none;\">\n",
       "                0.0051\n",
       "                \n",
       "                    &plusmn; 0.0017\n",
       "                \n",
       "            </td>\n",
       "            <td style=\"padding: 0 0.5em 0 0.5em; text-align: left; border: none;\">\n",
       "                PropertyGFAParking\n",
       "            </td>\n",
       "        </tr>\n",
       "    \n",
       "        <tr style=\"background-color: hsl(120, 100.00%, 99.29%); border: none;\">\n",
       "            <td style=\"padding: 0 1em 0 0.5em; text-align: right; border: none;\">\n",
       "                0.0050\n",
       "                \n",
       "                    &plusmn; 0.0009\n",
       "                \n",
       "            </td>\n",
       "            <td style=\"padding: 0 0.5em 0 0.5em; text-align: left; border: none;\">\n",
       "                BuildingType__Multifamily MR (5-9)\n",
       "            </td>\n",
       "        </tr>\n",
       "    \n",
       "        <tr style=\"background-color: hsl(120, 100.00%, 99.32%); border: none;\">\n",
       "            <td style=\"padding: 0 1em 0 0.5em; text-align: right; border: none;\">\n",
       "                0.0047\n",
       "                \n",
       "                    &plusmn; 0.0009\n",
       "                \n",
       "            </td>\n",
       "            <td style=\"padding: 0 0.5em 0 0.5em; text-align: left; border: none;\">\n",
       "                PrimaryPropertyType__Non-Refrigerated Warehouse\n",
       "            </td>\n",
       "        </tr>\n",
       "    \n",
       "        <tr style=\"background-color: hsl(120, 100.00%, 99.44%); border: none;\">\n",
       "            <td style=\"padding: 0 1em 0 0.5em; text-align: right; border: none;\">\n",
       "                0.0035\n",
       "                \n",
       "                    &plusmn; 0.0003\n",
       "                \n",
       "            </td>\n",
       "            <td style=\"padding: 0 0.5em 0 0.5em; text-align: left; border: none;\">\n",
       "                PrimaryPropertyType__Self-Storage Facility\n",
       "            </td>\n",
       "        </tr>\n",
       "    \n",
       "    \n",
       "        \n",
       "            <tr style=\"background-color: hsl(120, 100.00%, 99.44%); border: none;\">\n",
       "                <td colspan=\"2\" style=\"padding: 0 0.5em 0 0.5em; text-align: center; border: none; white-space: nowrap;\">\n",
       "                    <i>&hellip; 44 more &hellip;</i>\n",
       "                </td>\n",
       "            </tr>\n",
       "        \n",
       "    \n",
       "    </tbody>\n",
       "</table>\n",
       "    \n",
       "\n",
       "    \n",
       "\n",
       "\n",
       "    \n",
       "\n",
       "    \n",
       "\n",
       "    \n",
       "\n",
       "    \n",
       "\n",
       "    \n",
       "\n",
       "    \n",
       "\n",
       "\n",
       "\n"
      ],
      "text/plain": [
       "<IPython.core.display.HTML object>"
      ]
     },
     "execution_count": 86,
     "metadata": {},
     "output_type": "execute_result"
    }
   ],
   "source": [
    "perm = PermutationImportance(model_forest_ghg[\"Regressor\"], random_state=1).fit(model_forest_ghg[\"preprocessor\"].transform(X_test).toarray(), y_test[\"TotalGHGEmissions\"])\n",
    "eli5.show_weights(perm, feature_names = all_features)"
   ]
  },
  {
   "cell_type": "markdown",
   "id": "9959fb1e",
   "metadata": {},
   "source": [
    "Le modèle randomforest possède un attribut 'feature_importances_'qui, nous permet d'avoir une idée sur l'importance des features"
   ]
  },
  {
   "cell_type": "code",
   "execution_count": 88,
   "id": "80bc13b2",
   "metadata": {
    "scrolled": true
   },
   "outputs": [],
   "source": [
    "\n",
    "a = pd.DataFrame(data=model_forest_ghg[\"Regressor\"].feature_importances_, columns= ['feature_importance'],index=all_features).sort_values('feature_importance', ascending=False)\n"
   ]
  },
  {
   "cell_type": "code",
   "execution_count": 93,
   "id": "8369a802",
   "metadata": {},
   "outputs": [
    {
     "data": {
      "text/html": [
       "<div>\n",
       "<style scoped>\n",
       "    .dataframe tbody tr th:only-of-type {\n",
       "        vertical-align: middle;\n",
       "    }\n",
       "\n",
       "    .dataframe tbody tr th {\n",
       "        vertical-align: top;\n",
       "    }\n",
       "\n",
       "    .dataframe thead th {\n",
       "        text-align: right;\n",
       "    }\n",
       "</style>\n",
       "<table border=\"1\" class=\"dataframe\">\n",
       "  <thead>\n",
       "    <tr style=\"text-align: right;\">\n",
       "      <th></th>\n",
       "      <th>feature_importance</th>\n",
       "    </tr>\n",
       "  </thead>\n",
       "  <tbody>\n",
       "    <tr>\n",
       "      <th>PropertyGFABuilding(s)</th>\n",
       "      <td>0.411830</td>\n",
       "    </tr>\n",
       "    <tr>\n",
       "      <th>Age</th>\n",
       "      <td>0.102768</td>\n",
       "    </tr>\n",
       "    <tr>\n",
       "      <th>LargestPropertyUseTypeGFA</th>\n",
       "      <td>0.082263</td>\n",
       "    </tr>\n",
       "    <tr>\n",
       "      <th>PrimaryPropertyType__Low-Rise Multifamily</th>\n",
       "      <td>0.069801</td>\n",
       "    </tr>\n",
       "    <tr>\n",
       "      <th>ENERGYSTARScore</th>\n",
       "      <td>0.056057</td>\n",
       "    </tr>\n",
       "    <tr>\n",
       "      <th>...</th>\n",
       "      <td>...</td>\n",
       "    </tr>\n",
       "    <tr>\n",
       "      <th>PrimaryPropertyType__Residence Hall</th>\n",
       "      <td>0.000149</td>\n",
       "    </tr>\n",
       "    <tr>\n",
       "      <th>BuildingType__SPS-District K-12</th>\n",
       "      <td>0.000128</td>\n",
       "    </tr>\n",
       "    <tr>\n",
       "      <th>PrimaryPropertyType__Residence Hall/Dormitory</th>\n",
       "      <td>0.000094</td>\n",
       "    </tr>\n",
       "    <tr>\n",
       "      <th>BuildingType__Nonresidential WA</th>\n",
       "      <td>0.000016</td>\n",
       "    </tr>\n",
       "    <tr>\n",
       "      <th>PrimaryPropertyType__SPS-District K-12</th>\n",
       "      <td>0.000008</td>\n",
       "    </tr>\n",
       "  </tbody>\n",
       "</table>\n",
       "<p>64 rows × 1 columns</p>\n",
       "</div>"
      ],
      "text/plain": [
       "                                               feature_importance\n",
       "PropertyGFABuilding(s)                                   0.411830\n",
       "Age                                                      0.102768\n",
       "LargestPropertyUseTypeGFA                                0.082263\n",
       "PrimaryPropertyType__Low-Rise Multifamily                0.069801\n",
       "ENERGYSTARScore                                          0.056057\n",
       "...                                                           ...\n",
       "PrimaryPropertyType__Residence Hall                      0.000149\n",
       "BuildingType__SPS-District K-12                          0.000128\n",
       "PrimaryPropertyType__Residence Hall/Dormitory            0.000094\n",
       "BuildingType__Nonresidential WA                          0.000016\n",
       "PrimaryPropertyType__SPS-District K-12                   0.000008\n",
       "\n",
       "[64 rows x 1 columns]"
      ]
     },
     "execution_count": 93,
     "metadata": {},
     "output_type": "execute_result"
    }
   ],
   "source": [
    "a"
   ]
  },
  {
   "cell_type": "code",
   "execution_count": null,
   "id": "3d6204be",
   "metadata": {},
   "outputs": [],
   "source": []
  }
 ],
 "metadata": {
  "kernelspec": {
   "display_name": "Python 3",
   "language": "python",
   "name": "python3"
  },
  "language_info": {
   "codemirror_mode": {
    "name": "ipython",
    "version": 3
   },
   "file_extension": ".py",
   "mimetype": "text/x-python",
   "name": "python",
   "nbconvert_exporter": "python",
   "pygments_lexer": "ipython3",
   "version": "3.8.10"
  },
  "toc": {
   "base_numbering": 1,
   "nav_menu": {},
   "number_sections": true,
   "sideBar": true,
   "skip_h1_title": true,
   "title_cell": "Sommaire",
   "title_sidebar": "Contents",
   "toc_cell": true,
   "toc_position": {
    "height": "719px",
    "left": "65px",
    "top": "158.133px",
    "width": "165px"
   },
   "toc_section_display": true,
   "toc_window_display": true
  }
 },
 "nbformat": 4,
 "nbformat_minor": 5
}
